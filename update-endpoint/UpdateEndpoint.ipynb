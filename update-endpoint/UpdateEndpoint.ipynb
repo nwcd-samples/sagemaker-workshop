{
 "cells": [
  {
   "cell_type": "markdown",
   "id": "charged-night",
   "metadata": {},
   "source": [
    "# 在线更新SageMaker模型"
   ]
  },
  {
   "cell_type": "markdown",
   "id": "afraid-tuition",
   "metadata": {},
   "source": [
    "## 1 说明\n",
    "以训练好的2个模型进行在线更新，演示过程。  \n",
    "首先部署模型A，然后用模型B进行替换。  \n",
    "文本以PyTorch为例讲解，如果使用TensorFlow，除部署调用类不同外，具体更换模型的命令是相同的。"
   ]
  },
  {
   "cell_type": "markdown",
   "id": "marine-heavy",
   "metadata": {},
   "source": [
    "## 2 运行环境\n",
    "Kernel 选择pytorch_latest_p36。  \n",
    "本文在boto3 1.17.109和sagemaker 2.48.1下测试通过。"
   ]
  },
  {
   "cell_type": "code",
   "execution_count": null,
   "id": "egyptian-environment",
   "metadata": {},
   "outputs": [],
   "source": [
    "import boto3,sagemaker\n",
    "print(boto3.__version__)\n",
    "print(sagemaker.__version__)"
   ]
  },
  {
   "cell_type": "markdown",
   "id": "rolled-egypt",
   "metadata": {},
   "source": [
    "## 3 获取数据"
   ]
  },
  {
   "cell_type": "code",
   "execution_count": null,
   "id": "dominican-event",
   "metadata": {},
   "outputs": [],
   "source": [
    "from torchvision import datasets, transforms\n",
    "\n",
    "datasets.MNIST('data', download=True, transform=transforms.Compose([\n",
    "    transforms.ToTensor(),\n",
    "    transforms.Normalize((0.1307,), (0.3081,))\n",
    "]))"
   ]
  },
  {
   "cell_type": "markdown",
   "id": "biblical-milan",
   "metadata": {},
   "source": [
    "## 4 权限和环境变量"
   ]
  },
  {
   "cell_type": "code",
   "execution_count": null,
   "id": "supreme-marriage",
   "metadata": {},
   "outputs": [],
   "source": [
    "import boto3\n",
    "from sagemaker.image_uris import retrieve\n",
    "\n",
    "iam = boto3.client('iam')\n",
    "roles = iam.list_roles(PathPrefix='/service-role')\n",
    "role=\"\"\n",
    "for current_role in roles[\"Roles\"]:\n",
    "    if current_role[\"RoleName\"].startswith(\"AmazonSageMaker-ExecutionRole-\"):\n",
    "        role=current_role[\"Arn\"]\n",
    "        break\n",
    "#如果role为空表示有问题，需要先打开https://cn-northwest-1.console.amazonaws.cn/sagemaker/home?region=cn-northwest-1#/notebook-instances/create以创建IAM Role\n",
    "print(role)"
   ]
  },
  {
   "cell_type": "markdown",
   "id": "modern-passport",
   "metadata": {},
   "source": [
    "## 5 部署模型1"
   ]
  },
  {
   "cell_type": "markdown",
   "id": "statutory-oklahoma",
   "metadata": {},
   "source": [
    "model.deploy实际做了3步操作：1、创建模型；2、创建终端节点配置；3、创建终端节点"
   ]
  },
  {
   "cell_type": "markdown",
   "id": "quality-tract",
   "metadata": {},
   "source": [
    "如果使用自己的model，请参考[Bring your own model](https://sagemaker.readthedocs.io/en/stable/frameworks/pytorch/using_pytorch.html?highlight=deploy#bring-your-own-model)"
   ]
  },
  {
   "cell_type": "code",
   "execution_count": null,
   "id": "federal-person",
   "metadata": {},
   "outputs": [],
   "source": [
    "model_data_a=\"s3://nwcd-samples/sagemaker/pytorch-mnist/model-acc91.tar.gz\""
   ]
  },
  {
   "cell_type": "code",
   "execution_count": null,
   "id": "present-census",
   "metadata": {},
   "outputs": [],
   "source": [
    "from sagemaker.pytorch.model import PyTorchModel\n",
    "endpoint_name_a = \"mnist\"\n",
    "model_a = PyTorchModel(role=role,\n",
    "                        model_data=model_data_a,\n",
    "                        entry_point=\"mnist.py\",\n",
    "                        framework_version='1.6.0',\n",
    "                        py_version='py3')\n",
    "\n",
    "#该步骤,大概需要7-8分钟\n",
    "predictor_a = model_a.deploy(initial_instance_count=1,\n",
    "                                endpoint_name=endpoint_name_a,\n",
    "                                instance_type=\"ml.m5.large\"\n",
    "                                )"
   ]
  },
  {
   "cell_type": "markdown",
   "id": "sweet-wallace",
   "metadata": {},
   "source": [
    "## 6 使用模型A进行推理"
   ]
  },
  {
   "cell_type": "code",
   "execution_count": null,
   "id": "green-respondent",
   "metadata": {},
   "outputs": [],
   "source": [
    "import gzip \n",
    "import numpy as np\n",
    "import random\n",
    "import os\n",
    "\n",
    "data_dir = 'data/MNIST/raw'\n",
    "with gzip.open(os.path.join(data_dir, \"t10k-images-idx3-ubyte.gz\"), \"rb\") as f:\n",
    "    images = np.frombuffer(f.read(), np.uint8, offset=16).reshape(-1, 28, 28).astype(np.float32)"
   ]
  },
  {
   "cell_type": "code",
   "execution_count": null,
   "id": "fluid-terrain",
   "metadata": {},
   "outputs": [],
   "source": [
    "image_size = 3\n",
    "mask1 = random.sample(range(len(images)), image_size) # randomly select some of the test images\n",
    "mask2 = np.array(mask1, dtype=np.int)\n",
    "data = images[mask2]"
   ]
  },
  {
   "cell_type": "code",
   "execution_count": null,
   "id": "healthy-formula",
   "metadata": {},
   "outputs": [],
   "source": [
    "from matplotlib import pyplot as plt\n",
    "plt.figure(figsize=(2,2))\n",
    "for index, mask in enumerate(mask1):\n",
    "    plt.subplot(1,image_size,index+1)\n",
    "    plt.axis('off')\n",
    "    plt.imshow(images[mask])"
   ]
  },
  {
   "cell_type": "code",
   "execution_count": null,
   "id": "imposed-hardware",
   "metadata": {},
   "outputs": [],
   "source": [
    "response_a = predictor_a.predict(np.expand_dims(data, axis=1))\n",
    "print(response_a)"
   ]
  },
  {
   "cell_type": "markdown",
   "id": "vocational-modification",
   "metadata": {},
   "source": [
    "## 7 部署模型B"
   ]
  },
  {
   "cell_type": "code",
   "execution_count": null,
   "id": "undefined-input",
   "metadata": {},
   "outputs": [],
   "source": [
    "model_data_b=\"s3://nwcd-samples/sagemaker/pytorch-mnist/model-acc95.tar.gz\""
   ]
  },
  {
   "cell_type": "code",
   "execution_count": null,
   "id": "physical-remark",
   "metadata": {},
   "outputs": [],
   "source": [
    "from sagemaker.pytorch.model import PyTorchModel\n",
    "endpoint_name_b = \"mnistb\"\n",
    "model_b = PyTorchModel(role=role,\n",
    "                        model_data=model_data_b,\n",
    "                        entry_point=\"mnist.py\",\n",
    "                        framework_version='1.6.0',\n",
    "                        py_version='py3')\n",
    "\n",
    "#该步骤,大概需要7-8分钟\n",
    "predictor_b = model_b.deploy(initial_instance_count=1,\n",
    "                                endpoint_name=endpoint_name_b,\n",
    "                                instance_type=\"ml.m5.large\"\n",
    "                                )"
   ]
  },
  {
   "cell_type": "code",
   "execution_count": null,
   "id": "alternative-tamil",
   "metadata": {},
   "outputs": [],
   "source": [
    "response_b = predictor_b.predict(np.expand_dims(data, axis=1))\n",
    "print(response_b)"
   ]
  },
  {
   "cell_type": "markdown",
   "id": "binding-beverage",
   "metadata": {},
   "source": [
    "## 8 修改endpoint的模型为B"
   ]
  },
  {
   "cell_type": "markdown",
   "id": "spread-meeting",
   "metadata": {},
   "source": [
    "更新模型和新部署一个模型所需时间相近,大概需要7-8分钟"
   ]
  },
  {
   "cell_type": "code",
   "execution_count": null,
   "id": "fleet-dispatch",
   "metadata": {},
   "outputs": [],
   "source": [
    "import boto3\n",
    "smclient = boto3.Session().client(service_name='sagemaker')\n",
    "response = smclient.update_endpoint(\n",
    "    EndpointName='mnist',\n",
    "    EndpointConfigName='mnistb')"
   ]
  },
  {
   "cell_type": "markdown",
   "id": "superior-enforcement",
   "metadata": {},
   "source": [
    "## 9 测试修改后的模型"
   ]
  },
  {
   "cell_type": "markdown",
   "id": "marked-gates",
   "metadata": {},
   "source": [
    "把该结果和第6步结果进行对比"
   ]
  },
  {
   "cell_type": "code",
   "execution_count": null,
   "id": "affecting-tokyo",
   "metadata": {},
   "outputs": [],
   "source": [
    "response_a = predictor_a.predict(np.expand_dims(data, axis=1))\n",
    "print(response_a)"
   ]
  },
  {
   "cell_type": "markdown",
   "id": "accomplished-ottawa",
   "metadata": {},
   "source": [
    "## 10 清理"
   ]
  },
  {
   "cell_type": "code",
   "execution_count": null,
   "id": "assured-margin",
   "metadata": {},
   "outputs": [],
   "source": [
    "predictor_a.delete_endpoint()"
   ]
  },
  {
   "cell_type": "code",
   "execution_count": null,
   "id": "dressed-dayton",
   "metadata": {},
   "outputs": [],
   "source": [
    "import boto3\n",
    "sage = boto3.Session().client(service_name='sagemaker') \n",
    "sage.delete_endpoint(EndpointName=\"mnistb\")\n",
    "sage.delete_endpoint_config(EndpointConfigName=\"mnist\")"
   ]
  },
  {
   "cell_type": "code",
   "execution_count": null,
   "id": "graphic-minutes",
   "metadata": {},
   "outputs": [],
   "source": []
  }
 ],
 "metadata": {
  "kernelspec": {
   "display_name": "Environment (conda_pytorch_p36)",
   "language": "python",
   "name": "conda_pytorch_p36"
  },
  "language_info": {
   "codemirror_mode": {
    "name": "ipython",
    "version": 3
   },
   "file_extension": ".py",
   "mimetype": "text/x-python",
   "name": "python",
   "nbconvert_exporter": "python",
   "pygments_lexer": "ipython3",
   "version": "3.6.13"
  }
 },
 "nbformat": 4,
 "nbformat_minor": 5
}
