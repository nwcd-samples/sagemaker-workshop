{
 "cells": [
  {
   "cell_type": "markdown",
   "id": "exposed-selection",
   "metadata": {},
   "source": [
    "# DeepHyperX on SageMaker--数据准备"
   ]
  },
  {
   "cell_type": "markdown",
   "id": "interstate-routine",
   "metadata": {},
   "source": [
    "## 1 说明\n",
    "本章内容主要是把原始数据格式转化为mat格式。\n",
    "## 2 运行环境\n",
    "Kernel 选择pytorch_latest_p36。 \n",
    "## 3 已有mat格式数据\n",
    "如果已有YOLOv5格式的数据，可跳过数据准备，把数据放入S3即可。  \n",
    "### 3.1 S3目录存放格式\n",
    "```\n",
    "deephyper\n",
    "├── class1\n",
    "│   ├── class1_gt.mat\n",
    "│   └── class1.mat\n",
    "├── class2\n",
    "│   ├── class2_gt.mat\n",
    "│   └── class2.mat\n",
    "...\n",
    "└── classn\n",
    "    ├── classn_gt.mat\n",
    "    └── classn.mat\n",
    "```\n",
    "### 3.2 SageMaker输入数据根目录\n",
    "运行SageMaker时，SageMaker会从S3拷贝数据放到到运行容器的`/opt/ml/input/data/training/`下。即`deephyper/class1/class1.mat`对应全路径为`/opt/ml/input/data/training/class1/class1.mat`"
   ]
  },
  {
   "cell_type": "markdown",
   "id": "polyphonic-estimate",
   "metadata": {},
   "source": [
    "## 4 没有mat格式数据"
   ]
  },
  {
   "cell_type": "markdown",
   "id": "multiple-archives",
   "metadata": {},
   "source": [
    "### 4.1 拷贝数据到本地"
   ]
  },
  {
   "cell_type": "code",
   "execution_count": null,
   "id": "opponent-first",
   "metadata": {},
   "outputs": [],
   "source": [
    "import os\n",
    "if not os.path.exists(\"dataset\"):\n",
    "    os.mkdir(\"dataset\")"
   ]
  },
  {
   "cell_type": "code",
   "execution_count": null,
   "id": "strange-medication",
   "metadata": {},
   "outputs": [],
   "source": [
    "!aws s3 sync s3://junzhong/data/hyper_leaf/ ./dataset"
   ]
  },
  {
   "cell_type": "markdown",
   "id": "looking-triumph",
   "metadata": {},
   "source": [
    "### 4.2 转化为mat格式"
   ]
  },
  {
   "cell_type": "code",
   "execution_count": null,
   "id": "theoretical-sheriff",
   "metadata": {},
   "outputs": [],
   "source": [
    "!pip install spectral -i https://opentuna.cn/pypi/web/simple/"
   ]
  },
  {
   "cell_type": "code",
   "execution_count": null,
   "id": "rising-lunch",
   "metadata": {},
   "outputs": [],
   "source": [
    "!python preprocess.py"
   ]
  },
  {
   "cell_type": "markdown",
   "id": "facial-stable",
   "metadata": {},
   "source": [
    "### 4.3 拷贝到S3"
   ]
  },
  {
   "cell_type": "code",
   "execution_count": null,
   "id": "considered-museum",
   "metadata": {},
   "outputs": [],
   "source": [
    "# 设置数据存放S3 bucket\n",
    "bucket = 'junzhong'"
   ]
  },
  {
   "cell_type": "code",
   "execution_count": null,
   "id": "fitting-opinion",
   "metadata": {},
   "outputs": [],
   "source": [
    "!aws s3 sync Datasets/ s3://{bucket}/data/deephyper/"
   ]
  },
  {
   "cell_type": "code",
   "execution_count": null,
   "id": "pressed-composite",
   "metadata": {},
   "outputs": [],
   "source": []
  }
 ],
 "metadata": {
  "kernelspec": {
   "display_name": "Environment (conda_pytorch_latest_p37)",
   "language": "python",
   "name": "conda_pytorch_latest_p37"
  },
  "language_info": {
   "codemirror_mode": {
    "name": "ipython",
    "version": 3
   },
   "file_extension": ".py",
   "mimetype": "text/x-python",
   "name": "python",
   "nbconvert_exporter": "python",
   "pygments_lexer": "ipython3",
   "version": "3.7.10"
  }
 },
 "nbformat": 4,
 "nbformat_minor": 5
}
