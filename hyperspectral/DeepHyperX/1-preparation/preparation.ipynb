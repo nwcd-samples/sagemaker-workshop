{
 "cells": [
  {
   "cell_type": "markdown",
   "id": "interesting-asset",
   "metadata": {},
   "source": [
    "# DeepHyperX on SageMaker--数据准备"
   ]
  },
  {
   "cell_type": "markdown",
   "id": "tribal-steam",
   "metadata": {},
   "source": [
    "## 1 说明\n",
    "本章内容主要是把原始数据格式转化为mat格式。\n",
    "## 2 运行环境\n",
    "Kernel 选择pytorch_latest_p36。 \n",
    "## 3 已有mat格式数据\n",
    "如果已有YOLOv5格式的数据，可跳过数据准备，把数据放入S3即可。  \n",
    "### 3.1 S3目录存放格式\n",
    "```\n",
    "deephyper\n",
    "├── class1\n",
    "│   ├── class1_gt.mat\n",
    "│   └── class1.mat\n",
    "├── class2\n",
    "│   ├── class2_gt.mat\n",
    "│   └── class2.mat\n",
    "...\n",
    "└── classn\n",
    "    ├── classn_gt.mat\n",
    "    └── classn.mat\n",
    "```\n",
    "### 3.2 SageMaker输入数据根目录\n",
    "运行SageMaker时，SageMaker会从S3拷贝数据放到到运行容器的`/opt/ml/input/data/training/`下。即`deephyper/class1/class1.mat`对应全路径为`/opt/ml/input/data/training/class1/class1.mat`"
   ]
  },
  {
   "cell_type": "markdown",
   "id": "novel-style",
   "metadata": {},
   "source": [
    "## 4 没有mat格式数据"
   ]
  },
  {
   "cell_type": "markdown",
   "id": "outer-summary",
   "metadata": {},
   "source": [
    "### 4.1 拷贝数据到本地"
   ]
  },
  {
   "cell_type": "code",
   "execution_count": 2,
   "id": "severe-evanescence",
   "metadata": {},
   "outputs": [],
   "source": [
    "import os\n",
    "if not os.path.exists(\"dataset\"):\n",
    "    os.mkdir(\"dataset\")"
   ]
  },
  {
   "cell_type": "code",
   "execution_count": 3,
   "id": "unlike-summer",
   "metadata": {},
   "outputs": [
    {
     "name": "stdout",
     "output_type": "stream",
     "text": [
      "download: s3://junzhong/data/hyper_leaf/1.hdr to dataset/1.hdr  \n",
      "download: s3://junzhong/data/hyper_leaf/2.hdr to dataset/2.hdr  \n",
      "download: s3://junzhong/data/hyper_leaf/3.hdr to dataset/3.hdr  \n",
      "download: s3://junzhong/data/hyper_leaf/4.hdr to dataset/4.hdr  \n",
      "download: s3://junzhong/data/hyper_leaf/mask_1.hdr to dataset/mask_1.hdr\n",
      "download: s3://junzhong/data/hyper_leaf/mask_2.hdr to dataset/mask_2.hdr\n",
      "download: s3://junzhong/data/hyper_leaf/1.dat to dataset/1.dat     \n",
      "download: s3://junzhong/data/hyper_leaf/mask_3.hdr to dataset/mask_3.hdr\n",
      "download: s3://junzhong/data/hyper_leaf/mask_4.hdr to dataset/mask_4.hdr\n",
      "download: s3://junzhong/data/hyper_leaf/3.dat to dataset/3.dat    \n",
      "download: s3://junzhong/data/hyper_leaf/2.dat to dataset/2.dat     \n",
      "download: s3://junzhong/data/hyper_leaf/4.dat to dataset/4.dat     \n",
      "download: s3://junzhong/data/hyper_leaf/mask_1.tiff to dataset/mask_1.tiff\n",
      "download: s3://junzhong/data/hyper_leaf/mask_2.tiff to dataset/mask_2.tiff\n",
      "download: s3://junzhong/data/hyper_leaf/mask_3.tiff to dataset/mask_3.tiff\n",
      "download: s3://junzhong/data/hyper_leaf/mask_4.tiff to dataset/mask_4.tiff\n"
     ]
    }
   ],
   "source": [
    "!aws s3 sync s3://junzhong/data/hyper_leaf/ ./dataset"
   ]
  },
  {
   "cell_type": "markdown",
   "id": "boxed-summit",
   "metadata": {},
   "source": [
    "### 4.2 转化为mat格式"
   ]
  },
  {
   "cell_type": "code",
   "execution_count": 5,
   "id": "headed-heater",
   "metadata": {},
   "outputs": [
    {
     "name": "stdout",
     "output_type": "stream",
     "text": [
      "Looking in indexes: https://opentuna.cn/pypi/web/simple/\n",
      "Collecting spectral\n",
      "  Using cached spectral-0.22.2-py3-none-any.whl\n",
      "Requirement already satisfied: numpy in /home/ec2-user/anaconda3/envs/pytorch_latest_p37/lib/python3.7/site-packages (from spectral) (1.19.2)\n",
      "Installing collected packages: spectral\n",
      "Successfully installed spectral-0.22.2\n"
     ]
    }
   ],
   "source": [
    "!pip install spectral -i https://opentuna.cn/pypi/web/simple/"
   ]
  },
  {
   "cell_type": "code",
   "execution_count": 1,
   "id": "geographic-postage",
   "metadata": {},
   "outputs": [
    {
     "name": "stdout",
     "output_type": "stream",
     "text": [
      "   /home/ec2-user/sagemaker-workshop/hyperspectral/DeepHyperX/1-preparation/Datasets/leaf\n",
      "create dataset dir success.\n",
      "------------  loadData   1\n",
      "sample_count = 5341 \n",
      "data shape :  (128, 128, 204)\n",
      "label shape :  (128, 128)\n",
      "------------  loadData   2\n",
      "sample_count = 4538 \n",
      "data shape :  (128, 128, 204)\n",
      "label shape :  (128, 128)\n",
      "------------  loadData   3\n",
      "sample_count = 5018 \n",
      "data shape :  (128, 128, 204)\n",
      "label shape :  (128, 128)\n",
      "------------  loadData   4\n",
      "sample_count = 5089 \n",
      "data shape :  (128, 128, 204)\n",
      "label shape :  (128, 128)\n",
      "Save target data success ---------------------------------\n",
      "\n"
     ]
    }
   ],
   "source": [
    "!python preprocess.py"
   ]
  },
  {
   "cell_type": "markdown",
   "id": "wrong-construction",
   "metadata": {},
   "source": [
    "### 4.3 拷贝到S3"
   ]
  },
  {
   "cell_type": "code",
   "execution_count": 2,
   "id": "nuclear-glass",
   "metadata": {},
   "outputs": [],
   "source": [
    "# 设置数据存放S3 bucket\n",
    "bucket = 'junzhong'"
   ]
  },
  {
   "cell_type": "code",
   "execution_count": 3,
   "id": "directed-rogers",
   "metadata": {},
   "outputs": [
    {
     "name": "stdout",
     "output_type": "stream",
     "text": [
      "upload: Datasets/leaf/leaf_gt.mat to s3://junzhong/data/deephyper/leaf/leaf_gt.mat\n",
      "upload: Datasets/leaf/leaf.mat to s3://junzhong/data/deephyper/leaf/leaf.mat\n"
     ]
    }
   ],
   "source": [
    "!aws s3 sync Datasets/ s3://{bucket}/data/deephyper/"
   ]
  },
  {
   "cell_type": "code",
   "execution_count": null,
   "id": "computational-fourth",
   "metadata": {},
   "outputs": [],
   "source": []
  }
 ],
 "metadata": {
  "kernelspec": {
   "display_name": "Environment (conda_pytorch_latest_p37)",
   "language": "python",
   "name": "conda_pytorch_latest_p37"
  },
  "language_info": {
   "codemirror_mode": {
    "name": "ipython",
    "version": 3
   },
   "file_extension": ".py",
   "mimetype": "text/x-python",
   "name": "python",
   "nbconvert_exporter": "python",
   "pygments_lexer": "ipython3",
   "version": "3.7.10"
  }
 },
 "nbformat": 4,
 "nbformat_minor": 5
}
