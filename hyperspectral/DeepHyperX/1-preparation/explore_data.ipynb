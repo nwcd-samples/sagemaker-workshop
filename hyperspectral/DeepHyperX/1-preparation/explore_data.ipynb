{
 "cells": [
  {
   "cell_type": "code",
   "execution_count": null,
   "metadata": {},
   "outputs": [],
   "source": [
    "import scipy.io as sio\n",
    "import os\n",
    "import scipy.io\n",
    "import scipy.ndimage\n",
    "import spectral\n",
    "import spectral.io.envi as envi\n",
    "import pandas as pd\n",
    "import numpy as np\n",
    "import matplotlib.pyplot as plt\n",
    "import matplotlib.colors as colors\n",
    "import matplotlib.cm as cmx\n",
    "from random import shuffle\n"
   ]
  },
  {
   "cell_type": "markdown",
   "metadata": {},
   "source": [
    "## 分类\n",
    "0.   其他\n",
    "1.   较低油分\n",
    "2.   低油分\n",
    "3.    中油分\n",
    "4.    高油分\n"
   ]
  },
  {
   "cell_type": "code",
   "execution_count": null,
   "metadata": {},
   "outputs": [],
   "source": [
    "def loadData(flieName, dataIndex, temp_split=4):\n",
    "    \n",
    "    print(\"------------  loadData  \", dataIndex)\n",
    "    # 原始数据路径\n",
    "    DATA_PATH = os.path.join(os.getcwd(), flieName)\n",
    "\n",
    "    index = str(dataIndex)\n",
    "    data = envi.open( os.path.join(DATA_PATH, \"{}.hdr\".format(index)) ,os.path.join(DATA_PATH, \"{}.dat\".format(index)))\n",
    "    mask_data = envi.open( os.path.join(DATA_PATH, \"mask_{}.hdr\".format(index)) ,os.path.join(DATA_PATH, \"mask_{}.tiff\".format(index)))\n",
    "\n",
    "    HEIGHT = data.shape[0] //temp_split\n",
    "    WIDTH = data.shape[1] //temp_split\n",
    "    BAND = data.shape[2]\n",
    "#     BAND = BAND_SIZE\n",
    "    new_shape=(BAND,HEIGHT,WIDTH)\n",
    "    new_data = np.zeros(new_shape, dtype = float)\n",
    "    label = np.zeros((HEIGHT, WIDTH), dtype = int)\n",
    "    \n",
    "\n",
    "    sample_count = 0\n",
    "    for h in range(HEIGHT): \n",
    "        for w in range(WIDTH):\n",
    "            x = h*temp_split\n",
    "            y = w*temp_split\n",
    "            for b in range(BAND):\n",
    "                new_data[b][h][w] = data[x,y][b]\n",
    "\n",
    "            if(sum(mask_data[x, y])  > 0.01 ):\n",
    "                label[h][w] = dataIndex \n",
    "                sample_count += 1\n",
    "            else:\n",
    "                label[h][w] = 0\n",
    "    \n",
    "    \n",
    "    new_data = np.transpose(new_data, (1, 2, 0))  # 将通道数提前，便于数组处理操作\n",
    "    print(\"sample_count = {} \".format(sample_count))\n",
    "    print(\"data shape : \", new_data.shape)\n",
    "    print(\"label shape : \", label.shape)\n",
    "    return new_data, label"
   ]
  },
  {
   "cell_type": "markdown",
   "metadata": {},
   "source": [
    "PATCH  样本数量 * 通道 * 高 * 宽"
   ]
  },
  {
   "cell_type": "code",
   "execution_count": null,
   "metadata": {},
   "outputs": [],
   "source": [
    "def create_sample_data(index):\n",
    "    \n",
    "    data, label = loadData(\"dataset\", index)\n",
    "\n",
    "    height = data.shape[0]\n",
    "    width = data.shape[1]\n",
    "    band = data.shape[2]\n",
    "    \n",
    "    \n",
    "    print(\"band    : \", band)\n",
    "    print(\"height  : \", height)\n",
    "    print(\"width   : \", width)\n",
    "    sample_count = 0\n",
    "    for h in range(height):\n",
    "        for w in range(width):\n",
    "            if label[h][w] == index:\n",
    "                sample_count += 1\n",
    "\n",
    "    print(\"count   : \", sample_count)\n",
    "    new_shape= (sample_count, band)\n",
    "    temp_data = np.zeros(new_shape, dtype = float) \n",
    "    \n",
    "    count = 0 \n",
    "    for h in range(height):\n",
    "        for w in range(width):\n",
    "            if label[h][w] == index:\n",
    "                for b in range(band):\n",
    "                    temp_data[count][b] = data[h][w][b]\n",
    "                count += 1\n",
    "                \n",
    "    return temp_data\n",
    "    \n",
    "    "
   ]
  },
  {
   "cell_type": "code",
   "execution_count": null,
   "metadata": {},
   "outputs": [],
   "source": [
    "%%time\n",
    "\n",
    "\n",
    "new_data1  =  create_sample_data(1)\n",
    "new_data2  =  create_sample_data(2)\n",
    "new_data3  =  create_sample_data(3)\n",
    "new_data4  =  create_sample_data(4)"
   ]
  },
  {
   "cell_type": "code",
   "execution_count": null,
   "metadata": {},
   "outputs": [],
   "source": [
    "def drawLine(new_data):\n",
    "\n",
    "    plt.figure(figsize=(22, 3))\n",
    "    new_data1.shape\n",
    "    size = new_data1.shape[0]\n",
    "    split = size // 4\n",
    "    \n",
    "\n",
    "    #第一行第一列图形\n",
    "    ax1 = plt.subplot(1,4,1)\n",
    "    ax2 = plt.subplot(1,4,2)\n",
    "    ax3 = plt.subplot(1,4,3)\n",
    "    ax4 = plt.subplot(1,4,4)\n",
    "    x= np.linspace(0, 100 ,new_data.shape[1])\n",
    "\n",
    "    \n",
    "    plt.sca(ax1)\n",
    "    plt.plot(x,new_data[split * 0])\n",
    "    \n",
    "    \n",
    "    plt.sca(ax2)\n",
    "    plt.plot(x,new_data[split * 1])\n",
    "    \n",
    "    \n",
    "    plt.sca(ax3)\n",
    "    plt.plot(x,new_data[split * 2])\n",
    "    \n",
    "    \n",
    "    plt.sca(ax4)\n",
    "    plt.plot(x,new_data[split * 3])\n",
    "\n",
    "    plt.show()\n",
    "    \n"
   ]
  },
  {
   "cell_type": "code",
   "execution_count": null,
   "metadata": {},
   "outputs": [],
   "source": [
    "drawLine(new_data1)\n",
    "drawLine(new_data2)\n",
    "drawLine(new_data3)\n",
    "drawLine(new_data4)"
   ]
  },
  {
   "cell_type": "code",
   "execution_count": null,
   "metadata": {},
   "outputs": [],
   "source": [
    "def drawLine(d1, d2):\n",
    "\n",
    "    plt.figure(figsize=(22, 5))\n",
    "    size_1 = d1.shape[0]\n",
    "    split_1 = size_1 // 4\n",
    "    \n",
    "    size_2 = d2.shape[0]\n",
    "    split_2 = size_2 // 4\n",
    "    \n",
    "\n",
    "    #第一行第一列图形\n",
    "    ax1 = plt.subplot(1,4,1)\n",
    "    ax2 = plt.subplot(1,4,2)\n",
    "    ax3 = plt.subplot(1,4,3)\n",
    "    ax4 = plt.subplot(1,4,4)\n",
    "    x= np.linspace(0, d1.shape[1] ,d1.shape[1])\n",
    "\n",
    "    \n",
    "    plt.sca(ax1)\n",
    "    plt.plot(x,d1[split_1 * 0])\n",
    "    plt.plot(x,d2[split_2 * 0], color='red')\n",
    "    \n",
    "    \n",
    "    plt.sca(ax2)\n",
    "    plt.plot(x,d1[split_1 * 1])\n",
    "    plt.plot(x,d2[split_2 * 1], color='red')\n",
    "    \n",
    "    \n",
    "    plt.sca(ax3)\n",
    "    plt.plot(x,d1[split_1 * 2])\n",
    "    plt.plot(x,d2[split_2 * 2], color='red')\n",
    "    \n",
    "    \n",
    "    plt.sca(ax4)\n",
    "    plt.plot(x,d1[split_1 * 3])\n",
    "    plt.plot(x,d2[split_2 * 3], color='red')\n",
    "    \n",
    "    plt.show()\n"
   ]
  },
  {
   "cell_type": "markdown",
   "metadata": {},
   "source": [
    "### 中油分和高油分"
   ]
  },
  {
   "cell_type": "code",
   "execution_count": null,
   "metadata": {},
   "outputs": [],
   "source": [
    "drawLine(new_data3, new_data4)"
   ]
  },
  {
   "cell_type": "markdown",
   "metadata": {},
   "source": [
    "### 低油分和较低油分"
   ]
  },
  {
   "cell_type": "code",
   "execution_count": null,
   "metadata": {},
   "outputs": [],
   "source": [
    "drawLine(new_data1, new_data2)"
   ]
  },
  {
   "cell_type": "code",
   "execution_count": null,
   "metadata": {},
   "outputs": [],
   "source": []
  }
 ],
 "metadata": {
  "kernelspec": {
   "display_name": "Environment (conda_pytorch_latest_p37)",
   "language": "python",
   "name": "conda_pytorch_latest_p37"
  },
  "language_info": {
   "codemirror_mode": {
    "name": "ipython",
    "version": 3
   },
   "file_extension": ".py",
   "mimetype": "text/x-python",
   "name": "python",
   "nbconvert_exporter": "python",
   "pygments_lexer": "ipython3",
   "version": "3.7.10"
  }
 },
 "nbformat": 4,
 "nbformat_minor": 4
}
