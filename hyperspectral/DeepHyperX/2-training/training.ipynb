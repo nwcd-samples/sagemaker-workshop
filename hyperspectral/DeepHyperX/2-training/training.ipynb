{
 "cells": [
  {
   "cell_type": "markdown",
   "id": "fb63bd02",
   "metadata": {},
   "source": [
    "# DeepHyperX on SageMaker--训练"
   ]
  },
  {
   "cell_type": "markdown",
   "id": "45ac89f3",
   "metadata": {},
   "source": [
    "## 1 说明\n",
    "本章内容为用SageMaker进行训练，数据来自S3。"
   ]
  },
  {
   "cell_type": "markdown",
   "id": "79225937",
   "metadata": {},
   "source": [
    "## 2 运行环境\n",
    "Kernel 选择pytorch_latest_p36。  \n",
    "本文在boto3 1.17.84和sagemaker 2.43.0下测试通过。"
   ]
  },
  {
   "cell_type": "code",
   "execution_count": null,
   "id": "f580feb0",
   "metadata": {},
   "outputs": [],
   "source": [
    "import boto3,sagemaker\n",
    "print(boto3.__version__)\n",
    "print(sagemaker.__version__)"
   ]
  },
  {
   "cell_type": "markdown",
   "id": "a797946f",
   "metadata": {},
   "source": [
    "## 3 在SageMaker上训练"
   ]
  },
  {
   "cell_type": "code",
   "execution_count": null,
   "id": "7cb5b9a4",
   "metadata": {},
   "outputs": [],
   "source": [
    "# 设置数据存放S3 bucket\n",
    "bucket = 'junzhong'"
   ]
  },
  {
   "cell_type": "code",
   "execution_count": null,
   "id": "8645c318",
   "metadata": {},
   "outputs": [],
   "source": [
    "input_path='s3://{}/data/deephyper/'.format(bucket)\n",
    "output_path='s3://{}/result/deephyper/'.format(bucket)"
   ]
  },
  {
   "cell_type": "code",
   "execution_count": null,
   "id": "a806601d",
   "metadata": {},
   "outputs": [],
   "source": [
    "import boto3\n",
    "iam = boto3.client('iam')\n",
    "roles = iam.list_roles(PathPrefix='/service-role')\n",
    "role=\"\"\n",
    "for current_role in roles[\"Roles\"]:\n",
    "    if current_role[\"RoleName\"].startswith(\"AmazonSageMaker-ExecutionRole-\"):\n",
    "        role=current_role[\"Arn\"]\n",
    "        break\n",
    "#如果role为空表示有问题，需要先打开https://cn-northwest-1.console.amazonaws.cn/sagemaker/home?region=cn-northwest-1#/notebook-instances/create以创建IAM Role\n",
    "print(role)"
   ]
  },
  {
   "cell_type": "code",
   "execution_count": null,
   "id": "bb2fb92a",
   "metadata": {},
   "outputs": [],
   "source": [
    "from sagemaker.pytorch import PyTorch\n",
    "\n",
    "#根据需要修改训练实例，和是否使用Spot实例\n",
    "instance_type=\"ml.p3.2xlarge\"\n",
    "use_spot_instances=False\n",
    "\n",
    "estimator = PyTorch(entry_point=\"main.py\",\n",
    "                     source_dir=\"./source\",\n",
    "                     role=role,\n",
    "                     output_path=output_path,\n",
    "                     framework_version='1.6.0',\n",
    "                     hyperparameters={\"folder\":\"/opt/ml/input/data/training/\",\n",
    "                                      \"model\":\"he\",\n",
    "                                      \"dataset\":\"leaf\",\n",
    "                                      \"cuda\":\"0\",\n",
    "                                      \"training_sample\":0.7,\n",
    "                                      \"patch_size\":17,\n",
    "                                      \"epoch\":20,\n",
    "                                      \"batch_size\":32}, \n",
    "                     py_version=\"py3\",\n",
    "                     instance_count=1,\n",
    "                     instance_type=instance_type,\n",
    "                     use_spot_instances=use_spot_instances,\n",
    "                     max_wait=432000 if use_spot_instances else None,\n",
    "                    )"
   ]
  },
  {
   "cell_type": "code",
   "execution_count": null,
   "id": "b8b2da8b",
   "metadata": {},
   "outputs": [],
   "source": [
    "estimator.fit(input_path)"
   ]
  },
  {
   "cell_type": "code",
   "execution_count": null,
   "id": "9bdc5e9e",
   "metadata": {},
   "outputs": [],
   "source": [
    "import os\n",
    "os.makedirs(\"result\", exist_ok=True)"
   ]
  },
  {
   "cell_type": "code",
   "execution_count": null,
   "id": "c951ca17",
   "metadata": {},
   "outputs": [],
   "source": [
    "!aws s3 cp $estimator.model_data ./result"
   ]
  },
  {
   "cell_type": "code",
   "execution_count": null,
   "id": "00cf390e",
   "metadata": {},
   "outputs": [],
   "source": [
    "%%sh\n",
    "cd result\n",
    "tar zxvf model.tar.gz"
   ]
  },
  {
   "cell_type": "code",
   "execution_count": null,
   "id": "760a50c0",
   "metadata": {},
   "outputs": [],
   "source": []
  }
 ],
 "metadata": {
  "kernelspec": {
   "display_name": "conda_pytorch_latest_p36",
   "language": "python",
   "name": "conda_pytorch_latest_p36"
  },
  "language_info": {
   "codemirror_mode": {
    "name": "ipython",
    "version": 3
   },
   "file_extension": ".py",
   "mimetype": "text/x-python",
   "name": "python",
   "nbconvert_exporter": "python",
   "pygments_lexer": "ipython3",
   "version": "3.6.13"
  }
 },
 "nbformat": 4,
 "nbformat_minor": 5
}
