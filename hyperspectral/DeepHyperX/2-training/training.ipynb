{
 "cells": [
  {
   "cell_type": "markdown",
   "id": "municipal-emphasis",
   "metadata": {},
   "source": [
    "# DeepHyperX on SageMaker--训练"
   ]
  },
  {
   "cell_type": "markdown",
   "id": "posted-twenty",
   "metadata": {},
   "source": [
    "## 1 说明\n",
    "本章内容为用SageMaker进行训练，数据来自S3。"
   ]
  },
  {
   "cell_type": "markdown",
   "id": "recreational-ecology",
   "metadata": {},
   "source": [
    "## 2 运行环境\n",
    "Kernel 选择pytorch_latest_p36。  \n",
    "本文在boto3 1.17.84和sagemaker 2.43.0下测试通过。"
   ]
  },
  {
   "cell_type": "code",
   "execution_count": null,
   "id": "pressed-kruger",
   "metadata": {},
   "outputs": [],
   "source": [
    "import boto3,sagemaker\n",
    "print(boto3.__version__)\n",
    "print(sagemaker.__version__)"
   ]
  },
  {
   "cell_type": "markdown",
   "id": "fuzzy-camcorder",
   "metadata": {},
   "source": [
    "## 3 在SageMaker上训练"
   ]
  },
  {
   "cell_type": "code",
   "execution_count": null,
   "id": "instructional-tumor",
   "metadata": {},
   "outputs": [],
   "source": [
    "# 设置数据存放S3 bucket\n",
    "bucket = 'junzhong'"
   ]
  },
  {
   "cell_type": "code",
   "execution_count": null,
   "id": "talented-reform",
   "metadata": {},
   "outputs": [],
   "source": [
    "input_path='s3://{}/data/deephyper/'.format(bucket)\n",
    "output_path='s3://{}/result/deephyper/'.format(bucket)"
   ]
  },
  {
   "cell_type": "code",
   "execution_count": null,
   "id": "shared-manor",
   "metadata": {},
   "outputs": [],
   "source": [
    "import boto3\n",
    "iam = boto3.client('iam')\n",
    "roles = iam.list_roles(PathPrefix='/service-role')\n",
    "role=\"\"\n",
    "for current_role in roles[\"Roles\"]:\n",
    "    if current_role[\"RoleName\"].startswith(\"AmazonSageMaker-ExecutionRole-\"):\n",
    "        role=current_role[\"Arn\"]\n",
    "        break\n",
    "#如果role为空表示有问题，需要先打开https://cn-northwest-1.console.amazonaws.cn/sagemaker/home?region=cn-northwest-1#/notebook-instances/create以创建IAM Role\n",
    "print(role)"
   ]
  },
  {
   "cell_type": "code",
   "execution_count": null,
   "id": "placed-waters",
   "metadata": {},
   "outputs": [],
   "source": [
    "from sagemaker.pytorch import PyTorch\n",
    "\n",
    "#根据需要修改训练实例，和是否使用Spot实例\n",
    "instance_type=\"ml.p3.2xlarge\"\n",
    "use_spot_instances=False\n",
    "\n",
    "estimator = PyTorch(entry_point=\"main.py\",\n",
    "                     source_dir=\"./source\",\n",
    "                     role=role,\n",
    "                     output_path=output_path,\n",
    "                     framework_version='1.6.0',\n",
    "                     hyperparameters={\"folder\":\"/opt/ml/input/data/training/\",\n",
    "                                      \"model\":\"he\",\n",
    "                                      \"dataset\":\"leaf\",\n",
    "                                      \"cuda\":\"0\",\n",
    "                                      \"training_sample\":0.7,\n",
    "                                      \"patch_size\":17,\n",
    "                                      \"epoch\":20,\n",
    "                                      \"batch_size\":128}, \n",
    "                     py_version=\"py3\",\n",
    "                     instance_count=1,\n",
    "                     instance_type=instance_type,\n",
    "                     use_spot_instances=use_spot_instances,\n",
    "                     max_wait=432000 if use_spot_instances else None,\n",
    "                    )"
   ]
  },
  {
   "cell_type": "code",
   "execution_count": null,
   "id": "alert-stewart",
   "metadata": {},
   "outputs": [],
   "source": [
    "estimator.fit(input_path)"
   ]
  },
  {
   "cell_type": "code",
   "execution_count": null,
   "id": "personal-agriculture",
   "metadata": {},
   "outputs": [],
   "source": [
    "import os\n",
    "os.makedirs(\"result\", exist_ok=True)"
   ]
  },
  {
   "cell_type": "code",
   "execution_count": null,
   "id": "invisible-fundamentals",
   "metadata": {},
   "outputs": [],
   "source": [
    "!aws s3 cp $estimator.model_data ./result"
   ]
  },
  {
   "cell_type": "code",
   "execution_count": null,
   "id": "clinical-snowboard",
   "metadata": {},
   "outputs": [],
   "source": [
    "%%sh\n",
    "cd result\n",
    "tar zxvf model.tar.gz"
   ]
  },
  {
   "cell_type": "code",
   "execution_count": null,
   "id": "assigned-means",
   "metadata": {},
   "outputs": [],
   "source": []
  }
 ],
 "metadata": {
  "kernelspec": {
   "display_name": "Environment (conda_hyper)",
   "language": "python",
   "name": "conda_hyper"
  },
  "language_info": {
   "codemirror_mode": {
    "name": "ipython",
    "version": 3
   },
   "file_extension": ".py",
   "mimetype": "text/x-python",
   "name": "python",
   "nbconvert_exporter": "python",
   "pygments_lexer": "ipython3",
   "version": "3.6.13"
  }
 },
 "nbformat": 4,
 "nbformat_minor": 5
}
