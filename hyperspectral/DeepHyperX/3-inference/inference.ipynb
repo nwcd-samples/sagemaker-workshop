{
 "cells": [
  {
   "cell_type": "markdown",
   "id": "c8c0ca15",
   "metadata": {},
   "source": [
    "# 推理"
   ]
  },
  {
   "cell_type": "code",
   "execution_count": 1,
   "id": "d2c11e6c",
   "metadata": {},
   "outputs": [
    {
     "name": "stdout",
     "output_type": "stream",
     "text": [
      "/home/ec2-user/SageMaker/github/sagemaker-workshop/hyperspectral/DeepHyperX/3-inference\n"
     ]
    }
   ],
   "source": [
    "!pwd"
   ]
  },
  {
   "cell_type": "markdown",
   "id": "f8c5cb10",
   "metadata": {},
   "source": [
    "### 进入工作目录"
   ]
  },
  {
   "cell_type": "markdown",
   "id": "826aebf6",
   "metadata": {},
   "source": [
    "`cd sagemaker-workshop/hyperspectral/DeepHyperX/2-training`"
   ]
  },
  {
   "cell_type": "markdown",
   "id": "a007e347",
   "metadata": {},
   "source": [
    "### 创建环境"
   ]
  },
  {
   "cell_type": "markdown",
   "id": "1e81f2b7",
   "metadata": {},
   "source": [
    "```\n",
    "conda create -n  hyper python=3.6 pip scipy numpy \n",
    "source activate hyper\n",
    "pip install -r requirements2.txt -i https://mirrors.163.com/pypi/simple/\n",
    "    \n",
    "```"
   ]
  },
  {
   "cell_type": "markdown",
   "id": "71155594",
   "metadata": {},
   "source": [
    "### 推理"
   ]
  },
  {
   "cell_type": "markdown",
   "id": "f23e4b6a",
   "metadata": {},
   "source": [
    "`python3 inference.py --model he --checkpoint '../result/checkpoint/he_et_al/leaf/2021_06_06_08_18_30_epoch11_1.00.pth' --image 'Datasets/leaf/leaf.mat'  --mat leaf --n_classes=5 --patch_size=17 `"
   ]
  },
  {
   "cell_type": "code",
   "execution_count": null,
   "id": "3618c1c3",
   "metadata": {},
   "outputs": [],
   "source": []
  }
 ],
 "metadata": {
  "kernelspec": {
   "display_name": "conda_pytorch_latest_p36",
   "language": "python",
   "name": "conda_pytorch_latest_p36"
  },
  "language_info": {
   "codemirror_mode": {
    "name": "ipython",
    "version": 3
   },
   "file_extension": ".py",
   "mimetype": "text/x-python",
   "name": "python",
   "nbconvert_exporter": "python",
   "pygments_lexer": "ipython3",
   "version": "3.6.13"
  }
 },
 "nbformat": 4,
 "nbformat_minor": 5
}
