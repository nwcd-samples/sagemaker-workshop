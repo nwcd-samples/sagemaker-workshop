{
 "cells": [
  {
   "cell_type": "markdown",
   "metadata": {},
   "source": [
    "# 使用TensorFlow默认Image进行推理"
   ]
  },
  {
   "cell_type": "markdown",
   "metadata": {},
   "source": [
    "需要用到Tensorflow 和Keras , kernel 选择conda_tensorflow_p36\n",
    "\n",
    "## 把训练好的模型存放S3上\n",
    "model.tar.gz内目录结构如下\n",
    "```\n",
    "model.tar.gz\n",
    "└── tf_server\n",
    "    └── 1\n",
    "        ├── saved_model.pb\n",
    "        └── variables\n",
    "            ├── variables.data-00000-of-00001\n",
    "            └── variables.index\n",
    "```"
   ]
  },
  {
   "cell_type": "markdown",
   "metadata": {},
   "source": [
    "## 部署模型到SageMaker"
   ]
  },
  {
   "cell_type": "code",
   "execution_count": 10,
   "metadata": {},
   "outputs": [
    {
     "name": "stdout",
     "output_type": "stream",
     "text": [
      "---------------!"
     ]
    },
    {
     "data": {
      "text/plain": [
       "<sagemaker.tensorflow.model.TensorFlowPredictor at 0x7fe5889ab080>"
      ]
     },
     "execution_count": 10,
     "metadata": {},
     "output_type": "execute_result"
    }
   ],
   "source": [
    "from sagemaker.tensorflow.model import TensorFlowModel\n",
    "from sagemaker import get_execution_role\n",
    "\n",
    "#role = get_execution_role()\n",
    "role=\"arn:aws-cn:iam::315505707008:role/service-role/AmazonSageMaker-ExecutionRole-20200430T124235\" \n",
    "\n",
    "model_uri = \"s3://nowfox/data/cat-vs-dog-output/tensorflow-training-2020-08-24-09-33-46-405/output/model.tar.gz\"\n",
    "endpoint_name = \"sagemaker-cat-vs-dog-2\"\n",
    "my_model = TensorFlowModel(\n",
    "            model_data=model_uri, \n",
    "            role=role,\n",
    "            framework_version='1.15.2')\n",
    "\n",
    "#该步骤大概需要10分钟\n",
    "my_model.deploy(initial_instance_count=1,\n",
    "                                endpoint_name=endpoint_name,\n",
    "                                instance_type='ml.t2.medium'\n",
    "                                )"
   ]
  },
  {
   "cell_type": "markdown",
   "metadata": {},
   "source": [
    "## 推理\n",
    "### 读取数据"
   ]
  },
  {
   "cell_type": "code",
   "execution_count": 3,
   "metadata": {},
   "outputs": [],
   "source": [
    "from keras.preprocessing import image\n",
    "import json\n",
    "import numpy as np\n",
    "\n",
    "\n",
    "IMAGE_WIDTH = 150\n",
    "IMAGE_HEIGHT = 150\n",
    "# 修改测试图片地址\n",
    "#image_paths = 'test/cat.681.jpg'\n",
    "image_paths = 'test/dog.592.jpg'\n",
    "images = image.load_img(image_paths, target_size=(IMAGE_WIDTH, IMAGE_HEIGHT))\n",
    "input_image = image.img_to_array(images)\n",
    "input_image = np.expand_dims(input_image, axis=0)\n",
    "input_image /= 255.\n",
    "\n",
    "input_images = input_image.tolist()\n",
    "\n",
    "\n",
    "image_paths = 'test/cat.681.jpg'\n",
    "#image_paths = 'test/dog.592.jpg'\n",
    "images = image.load_img(image_paths, target_size=(IMAGE_WIDTH, IMAGE_HEIGHT))\n",
    "input_image = image.img_to_array(images)\n",
    "input_image = np.expand_dims(input_image, axis=0)\n",
    "input_image /= 255.\n",
    "\n",
    "input_images = input_image.tolist()\n",
    "\n",
    "data = {\"name\": 'tensorflow/serving/predict',\"signature_name\":'predict',\"inputs\":input_images}"
   ]
  },
  {
   "cell_type": "code",
   "execution_count": 5,
   "metadata": {},
   "outputs": [],
   "source": [
    "import sagemaker\n",
    "from sagemaker.tensorflow.model import TensorFlowPredictor\n",
    "\n",
    "endpoint_name = \"sagemaker-cat-vs-dog-2\"\n",
    "predictor = TensorFlowPredictor(\n",
    "    endpoint_name=endpoint_name,\n",
    "    sagemaker_session=sagemaker.Session())"
   ]
  },
  {
   "cell_type": "code",
   "execution_count": 6,
   "metadata": {},
   "outputs": [
    {
     "name": "stdout",
     "output_type": "stream",
     "text": [
      "{'outputs': [[0.999354303, 0.000645717839]]}\n"
     ]
    }
   ],
   "source": [
    "result = predictor.predict(data)\n",
    "print(result)"
   ]
  },
  {
   "cell_type": "code",
   "execution_count": null,
   "metadata": {},
   "outputs": [],
   "source": []
  }
 ],
 "metadata": {
  "kernelspec": {
   "display_name": "Environment (conda_tensorflow_p36)",
   "language": "python",
   "name": "conda_tensorflow_p36"
  },
  "language_info": {
   "codemirror_mode": {
    "name": "ipython",
    "version": 3
   },
   "file_extension": ".py",
   "mimetype": "text/x-python",
   "name": "python",
   "nbconvert_exporter": "python",
   "pygments_lexer": "ipython3",
   "version": "3.6.10"
  }
 },
 "nbformat": 4,
 "nbformat_minor": 4
}
