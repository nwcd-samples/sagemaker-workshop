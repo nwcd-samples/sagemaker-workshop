{
 "cells": [
  {
   "cell_type": "code",
   "execution_count": 22,
   "metadata": {},
   "outputs": [],
   "source": [
    "import boto3\n",
    "import sagemaker\n",
    "import os\n",
    "from sagemaker import get_execution_role\n",
    "\n",
    "region = boto3.session.Session().region_name\n",
    "\n",
    "#如果使用SageMaker的笔记本实例使用下一行\n",
    "#role = get_execution_role()\n",
    "#如果使用自建的笔记本实例请自行获取Role，可从IAM控制台获取到\n",
    "role = \"arn:aws-cn:iam::315505707008:role/service-role/AmazonSageMaker-ExecutionRole-20200430T124235\""
   ]
  },
  {
   "cell_type": "code",
   "execution_count": 23,
   "metadata": {},
   "outputs": [
    {
     "name": "stdout",
     "output_type": "stream",
     "text": [
      "2.4.0\n"
     ]
    }
   ],
   "source": [
    "#确保sagemaker版本为2.4.0及以上\n",
    "print(sagemaker.__version__)"
   ]
  },
  {
   "cell_type": "code",
   "execution_count": 24,
   "metadata": {},
   "outputs": [],
   "source": [
    "input_data = 's3://nowfox/data/cat-vs-dog-1000/'\n",
    "output_data = 's3://nowfox/data/cat-vs-dog-output/'"
   ]
  },
  {
   "cell_type": "markdown",
   "metadata": {},
   "source": [
    "## 准备图片\n",
    "\n",
    "原始数据按不同分类上传到input_data目录\n",
    "```\n",
    "input_data\n",
    "├── class1\n",
    "│   ├── image001.jpg\n",
    "│   ├── image002.jpg\n",
    "│   └── ...\n",
    "├── class2\n",
    "│   ├── image001.jpg\n",
    "│   ├── image002.jpg\n",
    "│   └── ...\n",
    "└── classn\n",
    "    ├── image001.jpg\n",
    "    ├── image002.jpg\n",
    "    └── ...\n",
    "```"
   ]
  },
  {
   "cell_type": "code",
   "execution_count": 25,
   "metadata": {},
   "outputs": [],
   "source": [
    "from sagemaker.tensorflow import TensorFlow\n",
    "\n",
    "# 建议使用gpu类型的实例\n",
    "instance_type='ml.p3.2xlarge'\n",
    "#instance_type='local'\n",
    "model_dir = '/opt/ml/model'\n",
    "\n",
    "# 可以修改epoch_count，batch_size\n",
    "estimator = TensorFlow(entry_point='train.py',\n",
    "                             source_dir='./source',\n",
    "                             role=role,\n",
    "                             output_path=output_data,\n",
    "                             model_dir=model_dir,\n",
    "                             framework_version='1.15.2',\n",
    "                             hyperparameters={'epoch_count':30, 'batch_size':20}, \n",
    "                             py_version='py3',\n",
    "                             instance_count=1,\n",
    "                             instance_type=instance_type,\n",
    "#                             train_volume_size=50,\n",
    "#                             train_max_run=432000,\n",
    "                             use_spot_instances=True,\n",
    "                             max_wait=432000,\n",
    "#                             metric_definitions=[{'Name': 'loss', 'Regex': 'loss = (.*?),'},\n",
    "#                                                 {'Name':'epoch','Regex': 'Step_Train = (.*?),'}]\n",
    "                           )\n"
   ]
  },
  {
   "cell_type": "code",
   "execution_count": 26,
   "metadata": {},
   "outputs": [],
   "source": [
    "from sagemaker.tuner import CategoricalParameter, ContinuousParameter, HyperparameterTuner\n",
    "hyperparameter_ranges = {'lr': ContinuousParameter(0.00001, 0.0001),\n",
    "                         'batch_size': CategoricalParameter([16,32,64])}"
   ]
  },
  {
   "cell_type": "code",
   "execution_count": 27,
   "metadata": {},
   "outputs": [],
   "source": [
    "# 注意Regex匹配时，会匹配到最后一个，但是最后一个值不一定是期望的值，所以需要自行处理后，再输出自定义标记的值，以便准确匹配\n",
    "objective_metric_name = 'test acc'\n",
    "objective_type = 'Maximize'\n",
    "metric_definitions = [{'Name': 'test acc',\n",
    "                       'Regex': 'test acc:([0-9\\\\.]+)'}]"
   ]
  },
  {
   "cell_type": "code",
   "execution_count": 28,
   "metadata": {},
   "outputs": [],
   "source": [
    "tuner = HyperparameterTuner(estimator,\n",
    "                            objective_metric_name,\n",
    "                            hyperparameter_ranges,\n",
    "                            metric_definitions,\n",
    "                            max_jobs=9,\n",
    "                            max_parallel_jobs=1,\n",
    "                            objective_type=objective_type)"
   ]
  },
  {
   "cell_type": "code",
   "execution_count": 29,
   "metadata": {},
   "outputs": [
    {
     "name": "stdout",
     "output_type": "stream",
     "text": [
      "...............................................................................................................................................................................................................................................................................................................................................................................................................................................................................................................................................................................................................................................................................................................................................................................................................................................................................................................................................................................................................................................................................................!\n"
     ]
    }
   ],
   "source": [
    "tuner.fit(input_data)"
   ]
  },
  {
   "cell_type": "markdown",
   "metadata": {},
   "source": [
    "### 打印 model_data 路径， 下载并且解压"
   ]
  },
  {
   "cell_type": "code",
   "execution_count": 30,
   "metadata": {},
   "outputs": [
    {
     "name": "stdout",
     "output_type": "stream",
     "text": [
      "\n",
      "2020-09-08 02:56:37 Starting - Preparing the instances for training\n",
      "2020-09-08 02:56:37 Downloading - Downloading input data\n",
      "2020-09-08 02:56:37 Training - Training image download completed. Training in progress.\n",
      "2020-09-08 02:56:37 Uploading - Uploading generated training model\n",
      "2020-09-08 02:56:37 Completed - Training job completed\n",
      "s3://nowfox/data/cat-vs-dog-output/tensorflow-training-200908-0224-003-ac81af1c/output/model.tar.gz\n"
     ]
    }
   ],
   "source": [
    "best_estimator=tuner.best_estimator()\n",
    "print(best_estimator.model_data)\n",
    "os.environ['S3_URL']=str(best_estimator.model_data)  #environ的键值必须是字符串  "
   ]
  },
  {
   "cell_type": "code",
   "execution_count": 34,
   "metadata": {},
   "outputs": [
    {
     "name": "stdout",
     "output_type": "stream",
     "text": [
      "s3://nowfox/data/cat-vs-dog-output/tensorflow-training-200908-0224-003-ac81af1c/output/model.tar.gz\n"
     ]
    }
   ],
   "source": [
    "%%sh\n",
    "\n",
    "echo ${S3_URL}"
   ]
  },
  {
   "cell_type": "code",
   "execution_count": 18,
   "metadata": {},
   "outputs": [
    {
     "name": "stdout",
     "output_type": "stream",
     "text": [
      "/home/ec2-user/sagemaker-encapsulation/output\n",
      "download: s3://nowfox/data/cat-vs-dog-output/tensorflow-training-2020-08-24-09-33-46-405/output/model.tar.gz to ./model.tar.gz\n",
      "tf_server/\n",
      "tf_server/1/\n",
      "tf_server/1/saved_model.pb\n",
      "tf_server/1/variables/\n",
      "tf_server/1/variables/variables.index\n",
      "tf_server/1/variables/variables.data-00000-of-00001\n",
      "model.h5\n"
     ]
    }
   ],
   "source": [
    "%%sh\n",
    "\n",
    "cd output\n",
    "aws s3 cp ${S3_URL} ./model.tar.gz\n",
    "\n",
    "# aws s3 cp {sli_estimator.model_data} ./model.tar.gz\n",
    "\n",
    "tar -xvzf ./model.tar.gz "
   ]
  },
  {
   "cell_type": "markdown",
   "metadata": {},
   "source": [
    "确保模型文件保存到以下目录\n",
    "\n",
    "`inference.ipynb` 里面会用到\n",
    "\n",
    "```\n",
    "output\n",
    "└── tf_server\n",
    "    └── 1\n",
    "        ├── saved_model.pb\n",
    "        └── variables\n",
    "            ├── variables.data-00000-of-00001\n",
    "            └── variables.index\n",
    "```\n",
    "\n",
    "```"
   ]
  },
  {
   "cell_type": "code",
   "execution_count": null,
   "metadata": {},
   "outputs": [],
   "source": []
  }
 ],
 "metadata": {
  "kernelspec": {
   "display_name": "Environment (conda_tensorflow_p36)",
   "language": "python",
   "name": "conda_tensorflow_p36"
  },
  "language_info": {
   "codemirror_mode": {
    "name": "ipython",
    "version": 3
   },
   "file_extension": ".py",
   "mimetype": "text/x-python",
   "name": "python",
   "nbconvert_exporter": "python",
   "pygments_lexer": "ipython3",
   "version": "3.6.10"
  }
 },
 "nbformat": 4,
 "nbformat_minor": 4
}
