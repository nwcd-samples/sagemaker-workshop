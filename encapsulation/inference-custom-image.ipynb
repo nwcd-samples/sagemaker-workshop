{
 "cells": [
  {
   "cell_type": "markdown",
   "metadata": {},
   "source": [
    "# 使用自定义Image进行推理"
   ]
  },
  {
   "cell_type": "markdown",
   "metadata": {},
   "source": [
    "需要用到Tensorflow 和Keras , kernel 选择conda_tensorflow_p36\n",
    "\n",
    "## 把训练好的模型存放到指定路径下\n",
    "`output/model/tf_server/`\n",
    "\n",
    "目录结构如下\n",
    "```\n",
    "└── tf_server\n",
    "    └── 1\n",
    "        ├── saved_model.pb\n",
    "        └── variables\n",
    "            ├── variables.data-00000-of-00001\n",
    "            └── variables.index\n",
    "```"
   ]
  },
  {
   "cell_type": "markdown",
   "metadata": {},
   "source": [
    "## Build容器\n",
    "对外提供服务时，需要使用容器方式。  \n",
    "图片分类本身可不使用自定义容器，这里只是演示如何自定义容器。"
   ]
  },
  {
   "cell_type": "code",
   "execution_count": 8,
   "metadata": {},
   "outputs": [
    {
     "name": "stdout",
     "output_type": "stream",
     "text": [
      "Sending build context to Docker daemon  434.2MB\n",
      "Step 1/5 : FROM tensorflow/serving\n",
      " ---> 25820e475139\n",
      "Step 2/5 : RUN apt-get update && apt-get install -y --no-install-recommends nginx git\n",
      " ---> Using cache\n",
      " ---> ab90e47298bb\n",
      "Step 3/5 : COPY ./output/tf_server  /model\n",
      " ---> a2de54dc1c21\n",
      "Step 4/5 : COPY nginx.conf /etc/nginx/nginx.conf\n",
      " ---> eba2a10b8590\n",
      "Step 5/5 : ENTRYPOINT service nginx start | tensorflow_model_server --rest_api_port=8501  --model_name=sagemaker-demo  --model_base_path=/model\n",
      " ---> Running in 722795692ca9\n",
      "Removing intermediate container 722795692ca9\n",
      " ---> 596182d56d14\n",
      "Successfully built 596182d56d14\n",
      "Successfully tagged sagemaker-cat-vs-dog:latest\n"
     ]
    }
   ],
   "source": [
    "%%sh\n",
    "docker build -t sagemaker-cat-vs-dog ."
   ]
  },
  {
   "cell_type": "markdown",
   "metadata": {},
   "source": [
    "## 本地运行docker"
   ]
  },
  {
   "cell_type": "code",
   "execution_count": 9,
   "metadata": {},
   "outputs": [
    {
     "name": "stdout",
     "output_type": "stream",
     "text": [
      "f8bebc4fce5867c4ee7d7b1e545909bed3331b921ae0c800a519074dbc00e86c\n"
     ]
    }
   ],
   "source": [
    "%%sh\n",
    "docker run -p 8501:8501 -d sagemaker-cat-vs-dog"
   ]
  },
  {
   "cell_type": "markdown",
   "metadata": {},
   "source": [
    "## 用本地Docker测试"
   ]
  },
  {
   "cell_type": "code",
   "execution_count": 10,
   "metadata": {},
   "outputs": [],
   "source": [
    "import requests\n",
    "import numpy as np\n",
    "import json\n",
    "import boto3 \n",
    "IMAGE_WIDTH = 150 \n",
    "IMAGE_HEIGHT = 150 \n",
    "\n",
    "# 修改测试图片地址\n",
    "image_paths = 'test/cat.681.jpg'\n",
    "#image_paths = 'test/dog.592.jpg'\n",
    "model_server_url = 'http://127.0.0.1:8501/v1/models/sagemaker-demo:predict'"
   ]
  },
  {
   "cell_type": "code",
   "execution_count": 11,
   "metadata": {},
   "outputs": [
    {
     "name": "stdout",
     "output_type": "stream",
     "text": [
      "{'outputs': [[0.999354303, 0.00064571941]]}\n"
     ]
    }
   ],
   "source": [
    "from keras.preprocessing import image\n",
    "\n",
    "images = image.load_img(image_paths, target_size=(IMAGE_WIDTH, IMAGE_HEIGHT))\n",
    "input_image = image.img_to_array(images)\n",
    "input_image = np.expand_dims(input_image, axis=0)\n",
    "input_image /= 255.\n",
    "\n",
    "input_images = input_image.tolist()\n",
    "data = json.dumps({\"inputs\":input_images})\n",
    "\n",
    "headers = {\"content-type\": \"application/json\"}\n",
    "\n",
    "\n",
    "json_response = requests.post(model_server_url, data=data, headers=headers)\n",
    "json_result = json.loads(json_response.text)\n",
    "print(json_result)"
   ]
  },
  {
   "cell_type": "code",
   "execution_count": 12,
   "metadata": {},
   "outputs": [
    {
     "data": {
      "text/plain": [
       "'cat'"
      ]
     },
     "execution_count": 12,
     "metadata": {},
     "output_type": "execute_result"
    }
   ],
   "source": [
    "# 根据需要修改class name，按字典序\n",
    "class_name=['cat','dog']\n",
    "class_name[np.argmax(json_result[\"outputs\"])]"
   ]
  },
  {
   "cell_type": "markdown",
   "metadata": {},
   "source": [
    "## 推送docker镜像到ECR"
   ]
  },
  {
   "cell_type": "code",
   "execution_count": 13,
   "metadata": {},
   "outputs": [
    {
     "name": "stdout",
     "output_type": "stream",
     "text": [
      "Login Succeeded\n",
      "The push refers to repository [315505707008.dkr.ecr.cn-northwest-1.amazonaws.com.cn/sagemaker-cat-vs-dog]\n",
      "c452c39d25a7: Preparing\n",
      "e450e450b87a: Preparing\n",
      "aa9f70b79e1c: Preparing\n",
      "3392ec9e29bf: Preparing\n",
      "66bdb0dbda05: Preparing\n",
      "2b4a85ea7e13: Preparing\n",
      "e41dc69483d3: Preparing\n",
      "28ba7458d04b: Preparing\n",
      "838a37a24627: Preparing\n",
      "a6ebef4a95c3: Preparing\n",
      "b7f7d2967507: Preparing\n",
      "e41dc69483d3: Waiting\n",
      "28ba7458d04b: Waiting\n",
      "838a37a24627: Waiting\n",
      "a6ebef4a95c3: Waiting\n",
      "b7f7d2967507: Waiting\n",
      "2b4a85ea7e13: Waiting\n",
      "66bdb0dbda05: Layer already exists\n",
      "aa9f70b79e1c: Layer already exists\n",
      "3392ec9e29bf: Layer already exists\n",
      "2b4a85ea7e13: Layer already exists\n",
      "28ba7458d04b: Layer already exists\n",
      "e41dc69483d3: Layer already exists\n",
      "838a37a24627: Layer already exists\n",
      "b7f7d2967507: Layer already exists\n",
      "a6ebef4a95c3: Layer already exists\n",
      "c452c39d25a7: Pushed\n",
      "e450e450b87a: Pushed\n",
      "latest: digest: sha256:529da078144f835127f4bb5b8bb38edef3a5ca599a25ee921862f97104e51162 size: 2621\n"
     ]
    },
    {
     "name": "stderr",
     "output_type": "stream",
     "text": [
      "WARNING! Using --password via the CLI is insecure. Use --password-stdin.\n",
      "WARNING! Your password will be stored unencrypted in /home/ec2-user/.docker/config.json.\n",
      "Configure a credential helper to remove this warning. See\n",
      "https://docs.docker.com/engine/reference/commandline/login/#credentials-store\n",
      "\n"
     ]
    }
   ],
   "source": [
    "%%sh\n",
    "algorithm_name=sagemaker-cat-vs-dog\n",
    "REGION=$(aws configure get region)\n",
    "ACCOUNT=$(aws sts get-caller-identity --query Account --output text)\n",
    "\n",
    "# If the ECS repository doesn't exist, creates it.\n",
    "aws ecr create-repository --repository-name ${algorithm_name} > /dev/null 2>&1\n",
    "\n",
    "# ECR requires the image name to be in this format:\n",
    "REPOSITORY_NAME=${ACCOUNT}.dkr.ecr.${REGION}.amazonaws.com.cn/${algorithm_name}:latest\n",
    "\n",
    "# Tags the image with the expect ECR format\n",
    "docker tag ${algorithm_name} ${REPOSITORY_NAME}\n",
    "\n",
    "# Allows docker access to ECR\n",
    "$(aws ecr get-login --no-include-email)\n",
    "\n",
    "# pushes the image to ECR\n",
    "docker push ${REPOSITORY_NAME}"
   ]
  },
  {
   "cell_type": "markdown",
   "metadata": {},
   "source": [
    "## 部署模型到SageMaker"
   ]
  },
  {
   "cell_type": "code",
   "execution_count": 14,
   "metadata": {},
   "outputs": [
    {
     "name": "stdout",
     "output_type": "stream",
     "text": [
      "-------------!"
     ]
    }
   ],
   "source": [
    "from sagemaker.model import Model\n",
    "import sagemaker\n",
    "from sagemaker import get_execution_role\n",
    "\n",
    "#role = get_execution_role()\n",
    "role=\"arn:aws-cn:iam::315505707008:role/service-role/AmazonSageMaker-ExecutionRole-20200430T124235\" \n",
    "image_uri = \"315505707008.dkr.ecr.cn-northwest-1.amazonaws.com.cn/sagemaker-cat-vs-dog\"\n",
    "endpoint_name = \"sagemaker-cat-vs-dog\"\n",
    "my_model = Model(\n",
    "            role=role,\n",
    "            image_uri=image_uri)\n",
    "\n",
    "#该步骤大概需要10分钟\n",
    "xgb_predictor = my_model.deploy(initial_instance_count=1,\n",
    "                                endpoint_name=endpoint_name,\n",
    "                                instance_type='ml.t2.medium'\n",
    "                                )"
   ]
  },
  {
   "cell_type": "markdown",
   "metadata": {},
   "source": [
    "## 推理\n",
    "### 读取数据"
   ]
  },
  {
   "cell_type": "code",
   "execution_count": 23,
   "metadata": {},
   "outputs": [],
   "source": [
    "from keras.preprocessing import image\n",
    "import json\n",
    "import numpy as np\n",
    "\n",
    "IMAGE_WIDTH = 150 \n",
    "IMAGE_HEIGHT = 150 \n",
    "# 修改测试图片地址\n",
    "image_paths = 'test/cat.681.jpg'\n",
    "#image_paths = 'test/dog.592.jpg'\n",
    "images = image.load_img(image_paths, target_size=(IMAGE_WIDTH, IMAGE_HEIGHT))\n",
    "input_image = image.img_to_array(images)\n",
    "input_image = np.expand_dims(input_image, axis=0)\n",
    "input_image /= 255.\n",
    "\n",
    "input_images = input_image.tolist()\n",
    "\n",
    "data = json.dumps({\"name\": 'tensorflow/serving/predict',\"signature_name\":'predict',\"inputs\":input_images})"
   ]
  },
  {
   "cell_type": "code",
   "execution_count": 24,
   "metadata": {},
   "outputs": [
    {
     "data": {
      "text/plain": [
       "(1, 150, 150, 3)"
      ]
     },
     "execution_count": 24,
     "metadata": {},
     "output_type": "execute_result"
    }
   ],
   "source": [
    "input_image.shape"
   ]
  },
  {
   "cell_type": "markdown",
   "metadata": {},
   "source": [
    "### 方式一、使用boto3"
   ]
  },
  {
   "cell_type": "code",
   "execution_count": 16,
   "metadata": {},
   "outputs": [
    {
     "name": "stdout",
     "output_type": "stream",
     "text": [
      "{'ResponseMetadata': {'RequestId': 'ab1d44b7-7339-4b17-95c9-2e2bebc78c10', 'HTTPStatusCode': 200, 'HTTPHeaders': {'x-amzn-requestid': 'ab1d44b7-7339-4b17-95c9-2e2bebc78c10', 'x-amzn-invoked-production-variant': 'AllTraffic', 'date': 'Mon, 24 Aug 2020 09:57:30 GMT', 'content-type': 'application/json', 'content-length': '97'}, 'RetryAttempts': 0}, 'ContentType': 'application/json', 'InvokedProductionVariant': 'AllTraffic', 'Body': <botocore.response.StreamingBody object at 0x7ff0fd6aaef0>}\n"
     ]
    }
   ],
   "source": [
    "import boto3\n",
    "endpoint_name = \"sagemaker-cat-vs-dog\"\n",
    "client = boto3.client('runtime.sagemaker')\n",
    "\n",
    "response = client.invoke_endpoint(EndpointName=endpoint_name,\n",
    "                                  Body=data)\n",
    "print(response)"
   ]
  },
  {
   "cell_type": "code",
   "execution_count": 17,
   "metadata": {},
   "outputs": [
    {
     "name": "stdout",
     "output_type": "stream",
     "text": [
      "{'outputs': [[0.999354303, 0.00064571941]]}\n"
     ]
    }
   ],
   "source": [
    "response_body = response['Body'] \n",
    "body= response_body.read()\n",
    "results = json.loads(body.decode('utf-8'))\n",
    "print(results)"
   ]
  },
  {
   "cell_type": "markdown",
   "metadata": {},
   "source": [
    "### 方式二、使用SageMaker SDK"
   ]
  },
  {
   "cell_type": "code",
   "execution_count": 18,
   "metadata": {},
   "outputs": [],
   "source": [
    "import sagemaker\n",
    "xgb_predictor = sagemaker.predictor.Predictor(\n",
    "    endpoint_name=endpoint_name,\n",
    "    sagemaker_session=sagemaker.Session())"
   ]
  },
  {
   "cell_type": "code",
   "execution_count": 19,
   "metadata": {},
   "outputs": [
    {
     "name": "stdout",
     "output_type": "stream",
     "text": [
      "{'outputs': [[0.999354303, 0.00064571941]]}\n"
     ]
    }
   ],
   "source": [
    "result = xgb_predictor.predict(data)\n",
    "results = json.loads(result.decode('utf-8'))\n",
    "print(results)"
   ]
  },
  {
   "cell_type": "code",
   "execution_count": null,
   "metadata": {},
   "outputs": [],
   "source": []
  }
 ],
 "metadata": {
  "kernelspec": {
   "display_name": "Environment (conda_tensorflow_p36)",
   "language": "python",
   "name": "conda_tensorflow_p36"
  },
  "language_info": {
   "codemirror_mode": {
    "name": "ipython",
    "version": 3
   },
   "file_extension": ".py",
   "mimetype": "text/x-python",
   "name": "python",
   "nbconvert_exporter": "python",
   "pygments_lexer": "ipython3",
   "version": "3.6.10"
  }
 },
 "nbformat": 4,
 "nbformat_minor": 4
}
