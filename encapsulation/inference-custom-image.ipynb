{
 "cells": [
  {
   "cell_type": "markdown",
   "metadata": {},
   "source": [
    "# 使用自定义Image进行推理"
   ]
  },
  {
   "cell_type": "markdown",
   "metadata": {},
   "source": [
    "需要用到Tensorflow 和Keras , kernel 选择conda_tensorflow_p36\n",
    "\n",
    "## 把训练好的模型存放到指定路径下\n",
    "`output/model/tf_server/`\n",
    "\n",
    "目录结构如下\n",
    "```\n",
    "└── tf_server\n",
    "    └── 1\n",
    "        ├── saved_model.pb\n",
    "        └── variables\n",
    "            ├── variables.data-00000-of-00001\n",
    "            └── variables.index\n",
    "```"
   ]
  },
  {
   "cell_type": "markdown",
   "metadata": {},
   "source": [
    "## Build容器\n",
    "对外提供服务时，需要使用容器方式。  \n",
    "图片分类本身可不使用自定义容器，这里只是演示如何自定义容器。"
   ]
  },
  {
   "cell_type": "code",
   "execution_count": null,
   "metadata": {},
   "outputs": [],
   "source": [
    "%%sh\n",
    "docker build -t sagemaker-cat-vs-dog ."
   ]
  },
  {
   "cell_type": "markdown",
   "metadata": {},
   "source": [
    "## 本地运行docker"
   ]
  },
  {
   "cell_type": "code",
   "execution_count": null,
   "metadata": {},
   "outputs": [],
   "source": [
    "%%sh\n",
    "docker run -p 8501:8501 -d sagemaker-cat-vs-dog"
   ]
  },
  {
   "cell_type": "markdown",
   "metadata": {},
   "source": [
    "## 用本地Docker测试"
   ]
  },
  {
   "cell_type": "code",
   "execution_count": null,
   "metadata": {},
   "outputs": [],
   "source": [
    "import requests\n",
    "import numpy as np\n",
    "import json\n",
    "import boto3 \n",
    "IMAGE_WIDTH = 150 \n",
    "IMAGE_HEIGHT = 150 \n",
    "\n",
    "# 修改测试图片地址\n",
    "image_paths = 'test/cat.681.jpg'\n",
    "#image_paths = 'test/dog.592.jpg'\n",
    "model_server_url = 'http://127.0.0.1:8501/v1/models/sagemaker-demo:predict'"
   ]
  },
  {
   "cell_type": "code",
   "execution_count": null,
   "metadata": {},
   "outputs": [],
   "source": [
    "from keras.preprocessing import image\n",
    "\n",
    "images = image.load_img(image_paths, target_size=(IMAGE_WIDTH, IMAGE_HEIGHT))\n",
    "input_image = image.img_to_array(images)\n",
    "input_image = np.expand_dims(input_image, axis=0)\n",
    "input_image /= 255.\n",
    "\n",
    "input_images = input_image.tolist()\n",
    "data = json.dumps({\"inputs\":input_images})\n",
    "\n",
    "headers = {\"content-type\": \"application/json\"}\n",
    "\n",
    "\n",
    "json_response = requests.post(model_server_url, data=data, headers=headers)\n",
    "json_result = json.loads(json_response.text)\n",
    "print(json_result)"
   ]
  },
  {
   "cell_type": "code",
   "execution_count": null,
   "metadata": {},
   "outputs": [],
   "source": [
    "# 根据需要修改class name，按字典序\n",
    "class_name=['cat','dog']\n",
    "class_name[np.argmax(json_result[\"outputs\"])]"
   ]
  },
  {
   "cell_type": "markdown",
   "metadata": {},
   "source": [
    "## 推送docker镜像到ECR"
   ]
  },
  {
   "cell_type": "code",
   "execution_count": null,
   "metadata": {},
   "outputs": [],
   "source": [
    "%%sh\n",
    "algorithm_name=sagemaker-cat-vs-dog\n",
    "REGION=$(aws configure get region)\n",
    "ACCOUNT=$(aws sts get-caller-identity --query Account --output text)\n",
    "\n",
    "# If the ECS repository doesn't exist, creates it.\n",
    "aws ecr create-repository --repository-name ${algorithm_name} > /dev/null 2>&1\n",
    "\n",
    "# ECR requires the image name to be in this format:\n",
    "REPOSITORY_NAME=${ACCOUNT}.dkr.ecr.${REGION}.amazonaws.com.cn/${algorithm_name}:latest\n",
    "\n",
    "# Tags the image with the expect ECR format\n",
    "docker tag ${algorithm_name} ${REPOSITORY_NAME}\n",
    "\n",
    "# Allows docker access to ECR\n",
    "$(aws ecr get-login --no-include-email)\n",
    "\n",
    "# pushes the image to ECR\n",
    "docker push ${REPOSITORY_NAME}"
   ]
  },
  {
   "cell_type": "markdown",
   "metadata": {},
   "source": [
    "## 部署模型到SageMaker"
   ]
  },
  {
   "cell_type": "code",
   "execution_count": null,
   "metadata": {},
   "outputs": [],
   "source": [
    "import boto3\n",
    "account_id = boto3.client('sts').get_caller_identity().get('Account')\n",
    "region = boto3.session.Session().region_name\n",
    "ecr_repository = 'sagemaker-cat-vs-dog'\n",
    "tag = ':latest'\n",
    "uri_suffix = 'amazonaws.com'\n",
    "if region in ['cn-north-1', 'cn-northwest-1']:\n",
    "    uri_suffix = 'amazonaws.com.cn'\n",
    "repository_uri = '{}.dkr.ecr.{}.{}/{}'.format(account_id, region, uri_suffix, ecr_repository + tag)\n",
    "print(repository_uri)"
   ]
  },
  {
   "cell_type": "code",
   "execution_count": null,
   "metadata": {},
   "outputs": [],
   "source": [
    "from sagemaker.model import Model\n",
    "import sagemaker\n",
    "from sagemaker import get_execution_role\n",
    "\n",
    "role = get_execution_role()\n",
    "#role=\"arn:aws-cn:iam::315505707008:role/service-role/AmazonSageMaker-ExecutionRole-20200430T124235\" \n",
    "image_uri = repository_uri\n",
    "endpoint_name = \"sagemaker-cat-vs-dog\"\n",
    "my_model = Model(\n",
    "            role=role,\n",
    "            image_uri=image_uri)\n",
    "\n",
    "#该步骤大概需要10分钟\n",
    "xgb_predictor = my_model.deploy(initial_instance_count=1,\n",
    "                                endpoint_name=endpoint_name,\n",
    "                                instance_type='ml.t2.medium'\n",
    "                                )"
   ]
  },
  {
   "cell_type": "markdown",
   "metadata": {},
   "source": [
    "## 推理\n",
    "### 读取数据"
   ]
  },
  {
   "cell_type": "code",
   "execution_count": null,
   "metadata": {},
   "outputs": [],
   "source": [
    "from keras.preprocessing import image\n",
    "import json\n",
    "import numpy as np\n",
    "\n",
    "IMAGE_WIDTH = 150 \n",
    "IMAGE_HEIGHT = 150 \n",
    "# 修改测试图片地址\n",
    "image_paths = 'test/cat.681.jpg'\n",
    "#image_paths = 'test/dog.592.jpg'\n",
    "images = image.load_img(image_paths, target_size=(IMAGE_WIDTH, IMAGE_HEIGHT))\n",
    "input_image = image.img_to_array(images)\n",
    "input_image = np.expand_dims(input_image, axis=0)\n",
    "input_image /= 255.\n",
    "\n",
    "input_images = input_image.tolist()\n",
    "\n",
    "data = json.dumps({\"name\": 'tensorflow/serving/predict',\"signature_name\":'predict',\"inputs\":input_images})"
   ]
  },
  {
   "cell_type": "code",
   "execution_count": null,
   "metadata": {},
   "outputs": [],
   "source": [
    "input_image.shape"
   ]
  },
  {
   "cell_type": "markdown",
   "metadata": {},
   "source": [
    "### 方式一、使用boto3"
   ]
  },
  {
   "cell_type": "code",
   "execution_count": null,
   "metadata": {},
   "outputs": [],
   "source": [
    "import boto3\n",
    "endpoint_name = \"sagemaker-cat-vs-dog\"\n",
    "client = boto3.client('runtime.sagemaker')\n",
    "\n",
    "response = client.invoke_endpoint(EndpointName=endpoint_name,\n",
    "                                  Body=data)\n",
    "print(response)"
   ]
  },
  {
   "cell_type": "code",
   "execution_count": null,
   "metadata": {},
   "outputs": [],
   "source": [
    "response_body = response['Body'] \n",
    "body= response_body.read()\n",
    "results = json.loads(body.decode('utf-8'))\n",
    "print(results)"
   ]
  },
  {
   "cell_type": "markdown",
   "metadata": {},
   "source": [
    "### 方式二、使用SageMaker SDK"
   ]
  },
  {
   "cell_type": "code",
   "execution_count": null,
   "metadata": {},
   "outputs": [],
   "source": [
    "import sagemaker\n",
    "xgb_predictor = sagemaker.predictor.Predictor(\n",
    "    endpoint_name=endpoint_name,\n",
    "    sagemaker_session=sagemaker.Session())"
   ]
  },
  {
   "cell_type": "code",
   "execution_count": null,
   "metadata": {},
   "outputs": [],
   "source": [
    "result = xgb_predictor.predict(data)\n",
    "results = json.loads(result.decode('utf-8'))\n",
    "print(results)"
   ]
  },
  {
   "cell_type": "code",
   "execution_count": null,
   "metadata": {},
   "outputs": [],
   "source": []
  }
 ],
 "metadata": {
  "kernelspec": {
   "display_name": "Environment (conda_tensorflow_p36)",
   "language": "python",
   "name": "conda_tensorflow_p36"
  },
  "language_info": {
   "codemirror_mode": {
    "name": "ipython",
    "version": 3
   },
   "file_extension": ".py",
   "mimetype": "text/x-python",
   "name": "python",
   "nbconvert_exporter": "python",
   "pygments_lexer": "ipython3",
   "version": "3.6.10"
  }
 },
 "nbformat": 4,
 "nbformat_minor": 4
}
