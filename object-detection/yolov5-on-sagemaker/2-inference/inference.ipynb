{
 "cells": [
  {
   "cell_type": "markdown",
   "metadata": {},
   "source": [
    "# YOLOv5 on SageMaker--推理"
   ]
  },
  {
   "cell_type": "markdown",
   "metadata": {},
   "source": [
    "## 1 说明\n",
    "本章内容为使用SageMaker进行推理，模型来自上一章的训练结果"
   ]
  },
  {
   "cell_type": "markdown",
   "metadata": {},
   "source": [
    "## 2 运行环境\n",
    "Kernel 选择pytorch_latest_p36。  \n",
    "本文在boto3 1.17.12和sagemaker 2.26.0下测试通过。"
   ]
  },
  {
   "cell_type": "code",
   "execution_count": null,
   "metadata": {},
   "outputs": [],
   "source": [
    "import boto3,sagemaker\n",
    "print(boto3.__version__)\n",
    "print(sagemaker.__version__)"
   ]
  },
  {
   "cell_type": "markdown",
   "metadata": {},
   "source": [
    "## 3 获取image"
   ]
  },
  {
   "cell_type": "markdown",
   "metadata": {},
   "source": [
    "本项目已build完毕image，存放到ECR中，可直接部署到SageMaker。请选择选择合适版本。"
   ]
  },
  {
   "cell_type": "code",
   "execution_count": null,
   "metadata": {},
   "outputs": [],
   "source": [
    "tag = \"v3.0\""
   ]
  },
  {
   "cell_type": "code",
   "execution_count": null,
   "metadata": {},
   "outputs": [],
   "source": [
    "import boto3\n",
    "region = boto3.session.Session().region_name\n",
    "image_uri = '048912060910.dkr.ecr.{}.amazonaws.com.cn/nwcd/yolov5-inference:{}'.format(region,tag)\n",
    "image_uri"
   ]
  },
  {
   "cell_type": "markdown",
   "metadata": {},
   "source": [
    "## 4 部署模型到SageMaker"
   ]
  },
  {
   "cell_type": "code",
   "execution_count": 19,
   "metadata": {},
   "outputs": [],
   "source": [
    "#读取model_data位置\n",
    "model_data_file = \"../1-training/model_data.txt\"\n",
    "if os.path.isfile(model_data_file):\n",
    "    with open(model_data_file) as f:\n",
    "        model_data = f.read()\n",
    "        print(model_data)\n",
    "else:\n",
    "    print(\"未读取到model_data，请确认已完成训练\")"
   ]
  },
  {
   "cell_type": "code",
   "execution_count": null,
   "metadata": {},
   "outputs": [],
   "source": [
    "from sagemaker.model import Model\n",
    "import boto3\n",
    "\n",
    "iam = boto3.client('iam')\n",
    "roles = iam.list_roles(PathPrefix='/service-role')\n",
    "role=\"\"\n",
    "for current_role in roles[\"Roles\"]:\n",
    "    if current_role[\"RoleName\"].startswith(\"AmazonSageMaker-ExecutionRole-\"):\n",
    "        role=current_role[\"Arn\"]\n",
    "        break\n",
    "#如果role为空表示有问题\n",
    "print(role)\n",
    "\n",
    "endpoint_name = \"yolov5\"\n",
    "my_model = Model(\n",
    "            image_uri=image_uri,\n",
    "            model_data=model_data,\n",
    "            role=role,)\n",
    "\n",
    "#该步骤大概需要15分钟\n",
    "xgb_predictor = my_model.deploy(initial_instance_count=1,\n",
    "                                endpoint_name=endpoint_name,\n",
    "                                instance_type='ml.t2.medium'\n",
    "                                )"
   ]
  },
  {
   "cell_type": "markdown",
   "metadata": {},
   "source": [
    "## 5 推理"
   ]
  },
  {
   "cell_type": "markdown",
   "metadata": {},
   "source": [
    "### 5.1 准备测试图片"
   ]
  },
  {
   "cell_type": "code",
   "execution_count": null,
   "metadata": {},
   "outputs": [],
   "source": [
    "#请修改测试图片地址\n",
    "data = {\"bucket\":\"junzhong\",\"image_uri\":\"yolov5/training/images/val/000729.jpeg\"}"
   ]
  },
  {
   "cell_type": "markdown",
   "metadata": {},
   "source": [
    "### 5.2 发送推理请求"
   ]
  },
  {
   "cell_type": "markdown",
   "metadata": {},
   "source": [
    "返回的结果是对象的中心点位置(x,y)，以及宽高(w,h)"
   ]
  },
  {
   "cell_type": "markdown",
   "metadata": {},
   "source": [
    "#### 方式一、使用boto3"
   ]
  },
  {
   "cell_type": "code",
   "execution_count": null,
   "metadata": {},
   "outputs": [],
   "source": [
    "import boto3\n",
    "import json\n",
    "endpoint_name = \"yolov5\"\n",
    "client = boto3.client('runtime.sagemaker')\n",
    "\n",
    "response = client.invoke_endpoint(EndpointName=endpoint_name,\n",
    "                                  Body=json.dumps(data),\n",
    "                                  ContentType=\"application/json\")\n",
    "#print(response)\n",
    "response_body = response['Body'] \n",
    "body= response_body.read()\n",
    "result = json.loads(body.decode('utf-8'))\n",
    "print(result)"
   ]
  },
  {
   "cell_type": "markdown",
   "metadata": {},
   "source": [
    "#### 方式二、使用SageMaker SDK"
   ]
  },
  {
   "cell_type": "code",
   "execution_count": null,
   "metadata": {},
   "outputs": [],
   "source": [
    "import sagemaker\n",
    "from sagemaker.serializers import JSONSerializer\n",
    "from sagemaker.deserializers import JSONDeserializer\n",
    "predictor = sagemaker.predictor.Predictor(\n",
    "    endpoint_name=endpoint_name,\n",
    "    sagemaker_session=sagemaker.Session(),\n",
    "    serializer=JSONSerializer(),\n",
    "    deserializer=JSONDeserializer())\n",
    "result = predictor.predict(data)\n",
    "print(result)"
   ]
  },
  {
   "cell_type": "markdown",
   "metadata": {},
   "source": [
    "## 6 使用结果"
   ]
  },
  {
   "cell_type": "markdown",
   "metadata": {},
   "source": [
    "### 6.1 定义函数"
   ]
  },
  {
   "cell_type": "code",
   "execution_count": null,
   "metadata": {},
   "outputs": [],
   "source": [
    "!pip install tqdm -i https://pypi.tuna.tsinghua.edu.cn/simple/"
   ]
  },
  {
   "cell_type": "code",
   "execution_count": null,
   "metadata": {},
   "outputs": [],
   "source": [
    "import sys\n",
    "sys.path.append(\"source\")\n",
    "from IPython.display import Image\n",
    "from utils.datasets import LoadImages\n",
    "from utils.general import (xywh2xyxy, plot_one_box)\n",
    "import cv2\n",
    "from numpy import random\n",
    "import torch\n",
    "def xywh2xyxy(xywh,width,height):\n",
    "    xyxy = []\n",
    "    xyxy.append((xywh[0]-xywh[2]/2)*width)\n",
    "    xyxy.append((xywh[1]-xywh[3]/2)*height)\n",
    "    xyxy.append((xywh[0]+xywh[2]/2)*width)\n",
    "    xyxy.append((xywh[1]+xywh[3]/2)*height)\n",
    "    return xyxy\n",
    "\n",
    "def draw(result,source_img,output_img):\n",
    "    dataset = LoadImages(source_img)\n",
    "    colors = [[random.randint(0, 255) for _ in range(3)] for _ in range(50)]\n",
    "    for path, img, im0s, vid_cap in dataset:\n",
    "        shape = torch.tensor(im0s.shape)\n",
    "        for item in result:\n",
    "            xyxy_list = xywh2xyxy(item[\"xywh\"],int(shape[1]),int(shape[0]))\n",
    "            xyxy = []\n",
    "            for xyxy_item in xyxy_list:\n",
    "                xyxy.append(torch.Tensor([xyxy_item]))\n",
    "            label = '%s %.2f' % (item[\"class_name\"], item[\"confidence\"])\n",
    "            plot_one_box(xyxy, im0s, label=label, color=colors[item[\"class\"]], line_thickness=3)\n",
    "    cv2.imwrite(output_img, im0s)"
   ]
  },
  {
   "cell_type": "markdown",
   "metadata": {},
   "source": [
    "### 6.2 下载原图并显示"
   ]
  },
  {
   "cell_type": "code",
   "execution_count": null,
   "metadata": {},
   "outputs": [],
   "source": [
    "import os\n",
    "if not os.path.exists(\"result\"):\n",
    "    os.mkdir(\"result\")"
   ]
  },
  {
   "cell_type": "code",
   "execution_count": null,
   "metadata": {},
   "outputs": [],
   "source": [
    "s3_file=\"s3://\"+data[\"bucket\"]+\"/\"+data[\"image_uri\"]\n",
    "!aws s3 cp $s3_file ./result\n",
    "source_file_name=data[\"image_uri\"].split(\"/\")[-1:][0]\n",
    "source_img=\"result/\"+source_file_name\n",
    "Image(filename=source_img, width=600)"
   ]
  },
  {
   "cell_type": "markdown",
   "metadata": {},
   "source": [
    "### 6.3 把推理结果显示在图片上"
   ]
  },
  {
   "cell_type": "code",
   "execution_count": null,
   "metadata": {},
   "outputs": [],
   "source": [
    "output_img=\"result/output_\"+source_file_name\n",
    "draw(result,source_img,output_img)\n",
    "Image(filename=output_img, width=600)"
   ]
  },
  {
   "cell_type": "markdown",
   "metadata": {},
   "source": [
    "## 7 删除Endpoint"
   ]
  },
  {
   "cell_type": "code",
   "execution_count": 13,
   "metadata": {},
   "outputs": [
    {
     "data": {
      "text/plain": [
       "{'ResponseMetadata': {'RequestId': 'ad409dfa-e137-4a57-9b87-b9d02ddd8d1e',\n",
       "  'HTTPStatusCode': 200,\n",
       "  'HTTPHeaders': {'x-amzn-requestid': 'ad409dfa-e137-4a57-9b87-b9d02ddd8d1e',\n",
       "   'content-type': 'application/x-amz-json-1.1',\n",
       "   'content-length': '0',\n",
       "   'date': 'Thu, 27 May 2021 12:43:36 GMT'},\n",
       "  'RetryAttempts': 0}}"
      ]
     },
     "execution_count": 13,
     "metadata": {},
     "output_type": "execute_result"
    }
   ],
   "source": [
    "import boto3\n",
    "endpoint_name = \"yolov5\"\n",
    "sage = boto3.Session().client(service_name='sagemaker') \n",
    "sage.delete_endpoint(EndpointName=endpoint_name)\n",
    "sage.delete_endpoint_config(EndpointConfigName=endpoint_name)"
   ]
  },
  {
   "cell_type": "code",
   "execution_count": null,
   "metadata": {},
   "outputs": [],
   "source": []
  }
 ],
 "metadata": {
  "kernelspec": {
   "display_name": "Environment (conda_pytorch_latest_p37)",
   "language": "python",
   "name": "conda_pytorch_latest_p37"
  },
  "language_info": {
   "codemirror_mode": {
    "name": "ipython",
    "version": 3
   },
   "file_extension": ".py",
   "mimetype": "text/x-python",
   "name": "python",
   "nbconvert_exporter": "python",
   "pygments_lexer": "ipython3",
   "version": "3.7.10"
  }
 },
 "nbformat": 4,
 "nbformat_minor": 4
}
