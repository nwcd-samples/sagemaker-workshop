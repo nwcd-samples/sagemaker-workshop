{
 "cells": [
  {
   "cell_type": "markdown",
   "metadata": {},
   "source": [
    "# YOLOv5 on SageMaker--推理"
   ]
  },
  {
   "cell_type": "markdown",
   "metadata": {},
   "source": [
    "## 运行环境\n",
    "Kernel 选择pytorch_latest_p36。  \n",
    "本文在boto3 1.17.12和sagemaker 2.26.0下测试通过。"
   ]
  },
  {
   "cell_type": "code",
   "execution_count": 2,
   "metadata": {},
   "outputs": [
    {
     "name": "stdout",
     "output_type": "stream",
     "text": [
      "1.17.12\n",
      "2.26.0\n"
     ]
    }
   ],
   "source": [
    "import boto3,sagemaker\n",
    "print(boto3.__version__)\n",
    "print(sagemaker.__version__)"
   ]
  },
  {
   "cell_type": "markdown",
   "metadata": {},
   "source": [
    "## 本地推理(可选)\n",
    "新启动一个shell窗口  \n",
    "sudo mkdir /opt/ml  \n",
    "sudo chmod 777 /opt/ml  \n",
    "必须cd到`2-inference/source`目录，然后运行`python predictor.py`，正常启动会输出以下内容：\n",
    "```\n",
    "-------------init_output_dir  /opt/ml/output_dir\n",
    " * Serving Flask app \"predictor\" (lazy loading)\n",
    " * Environment: production\n",
    "   WARNING: This is a development server. Do not use it in a production deployment.\n",
    "   Use a production WSGI server instead.\n",
    " * Debug mode: off\n",
    " * Running on http://127.0.0.1:5000/ (Press CTRL+C to quit)\n",
    "```"
   ]
  },
  {
   "cell_type": "code",
   "execution_count": null,
   "metadata": {},
   "outputs": [],
   "source": [
    "#修改请求图片\n",
    "!curl -H \"Content-Type: application/json\" -X POST --data '{\"bucket\":\"junzhong\",\"image_uri\":\"yolov5/training/images/val/000799.jpeg\"}' http://127.0.0.1:5000/invocations"
   ]
  },
  {
   "cell_type": "markdown",
   "metadata": {},
   "source": [
    "## Amazon 深度学习容器\n",
    "\n",
    "* [容器镜像清单](https://github.com/aws/deep-learning-containers/blob/master/available_images.md)\n",
    "* 本文基于pytorch inference: `727897471807.dkr.ecr.cn-northwest-1.amazonaws.com.cn/pytorch-inference:1.6.0-gpu-py36-cu101-ubuntu16.04`"
   ]
  },
  {
   "cell_type": "markdown",
   "metadata": {},
   "source": [
    "## Build自定义推理镜像"
   ]
  },
  {
   "cell_type": "code",
   "execution_count": 3,
   "metadata": {},
   "outputs": [
    {
     "name": "stdout",
     "output_type": "stream",
     "text": [
      "315505707008.dkr.ecr.cn-northwest-1.amazonaws.com.cn/yolov5-inference:latest\n"
     ]
    }
   ],
   "source": [
    "import boto3\n",
    "region = boto3.session.Session().region_name\n",
    "account_id = boto3.client('sts').get_caller_identity().get('Account')\n",
    "ecr_repository = 'yolov5-inference'\n",
    "tag = ':latest'\n",
    "uri_suffix = 'amazonaws.com'\n",
    "if region in ['cn-north-1', 'cn-northwest-1']:\n",
    "    uri_suffix = 'amazonaws.com.cn'\n",
    "image_uri = '{}.dkr.ecr.{}.{}/{}'.format(account_id, region, uri_suffix, ecr_repository + tag)\n",
    "print(image_uri)\n",
    "ecr = '{}.dkr.ecr.{}.{}'.format(account_id, region, uri_suffix)"
   ]
  },
  {
   "cell_type": "code",
   "execution_count": 4,
   "metadata": {},
   "outputs": [
    {
     "name": "stdout",
     "output_type": "stream",
     "text": [
      "WARNING! Your password will be stored unencrypted in /home/ec2-user/.docker/config.json.\n",
      "Configure a credential helper to remove this warning. See\n",
      "https://docs.docker.com/engine/reference/commandline/login/#credentials-store\n",
      "\n",
      "Login Succeeded\n"
     ]
    }
   ],
   "source": [
    "#国内pytorch inference基础镜像地址，不要修改\n",
    "base_img='727897471807.dkr.ecr.cn-northwest-1.amazonaws.com.cn/pytorch-inference:1.6.0-gpu-py36-cu101-ubuntu16.04'\n",
    "#登录基础镜像ECR，不要修改\n",
    "!aws ecr get-login-password --region cn-northwest-1 | docker login --username AWS --password-stdin 727897471807.dkr.ecr.cn-northwest-1.amazonaws.com.cn"
   ]
  },
  {
   "cell_type": "code",
   "execution_count": 5,
   "metadata": {},
   "outputs": [
    {
     "name": "stdout",
     "output_type": "stream",
     "text": [
      "\n",
      "An error occurred (RepositoryAlreadyExistsException) when calling the CreateRepository operation: The repository with name 'yolov5-inference' already exists in the registry with id '315505707008'\n"
     ]
    }
   ],
   "source": [
    "!aws ecr create-repository --repository-name $ecr_repository"
   ]
  },
  {
   "cell_type": "code",
   "execution_count": 6,
   "metadata": {},
   "outputs": [
    {
     "name": "stdout",
     "output_type": "stream",
     "text": [
      "Sending build context to Docker daemon   15.5MB\n",
      "Step 1/12 : ARG BASE_IMG=${BASE_IMG}\n",
      "Step 2/12 : FROM ${BASE_IMG}\n",
      " ---> a7cf51a6c06b\n",
      "Step 3/12 : RUN apt-get update\n",
      " ---> Using cache\n",
      " ---> 6e0e40ab112d\n",
      "Step 4/12 : RUN apt-get install -y --no-install-recommends nginx net-tools    && rm -rf /var/lib/apt/lists/*\n",
      " ---> Using cache\n",
      " ---> d1ae35fa3463\n",
      "Step 5/12 : RUN pip install flask gevent gunicorn boto3 -i https://opentuna.cn/pypi/web/simple/ &&         rm -rf /root/.cache\n",
      " ---> Using cache\n",
      " ---> 80035286a458\n",
      "Step 6/12 : WORKDIR /opt/ml/code\n",
      " ---> Using cache\n",
      " ---> 0facd849c209\n",
      "Step 7/12 : COPY source ./\n",
      " ---> 88eee127fea7\n",
      "Step 8/12 : RUN pip install -r requirements.txt -i https://opentuna.cn/pypi/web/simple/\n",
      " ---> Running in 03f46b87dc4e\n",
      "Looking in indexes: https://opentuna.cn/pypi/web/simple/\n",
      "Requirement already satisfied: Cython in /opt/conda/lib/python3.6/site-packages (from -r requirements.txt (line 4)) (0.29.12)\n",
      "Collecting matplotlib>=3.2.2\n",
      "  Downloading https://opentuna.cn/pypi/web/packages/09/03/b7b30fa81cb687d1178e085d0f01111ceaea3bf81f9330c937fb6f6c8ca0/matplotlib-3.3.4-cp36-cp36m-manylinux1_x86_64.whl (11.5 MB)\n",
      "Requirement already satisfied: numpy>=1.18.5 in /opt/conda/lib/python3.6/site-packages (from -r requirements.txt (line 6)) (1.19.1)\n",
      "Collecting opencv-python>=4.1.2\n",
      "  Downloading https://opentuna.cn/pypi/web/packages/ec/de/e5308044f192cfb10ebe394bf9c6f38f9d77a3f57328354e756633c068f9/opencv_python-4.5.2.52-cp36-cp36m-manylinux2014_x86_64.whl (51.0 MB)\n",
      "Requirement already satisfied: Pillow in /opt/conda/lib/python3.6/site-packages (from -r requirements.txt (line 8)) (7.2.0)\n",
      "Requirement already satisfied: PyYAML>=5.3.1 in /opt/conda/lib/python3.6/site-packages (from -r requirements.txt (line 9)) (5.4.1)\n",
      "Collecting scipy>=1.4.1\n",
      "  Downloading https://opentuna.cn/pypi/web/packages/c8/89/63171228d5ced148f5ced50305c89e8576ffc695a90b58fe5bb602b910c2/scipy-1.5.4-cp36-cp36m-manylinux1_x86_64.whl (25.9 MB)\n",
      "Collecting tensorboard>=2.2\n",
      "  Downloading https://opentuna.cn/pypi/web/packages/44/f5/7feea02a3fb54d5db827ac4b822a7ba8933826b36de21880518250b8733a/tensorboard-2.5.0-py3-none-any.whl (6.0 MB)\n",
      "Collecting torch>=1.7.0\n",
      "  Downloading https://opentuna.cn/pypi/web/packages/dd/b9/824df420f6abf551e41bbaacbaa0be8321dc104f9f3803051513844dc310/torch-1.8.1-cp36-cp36m-manylinux1_x86_64.whl (804.1 MB)\n",
      "Collecting torchvision>=0.8.1\n",
      "  Downloading https://opentuna.cn/pypi/web/packages/74/a0/4bfa036c5b88444e95d0b3b24c6e0d6047b9c5920572c4be3135e24f15ba/torchvision-0.9.1-cp36-cp36m-manylinux1_x86_64.whl (17.4 MB)\n",
      "Requirement already satisfied: tqdm>=4.41.0 in /opt/conda/lib/python3.6/site-packages (from -r requirements.txt (line 14)) (4.56.0)\n",
      "Collecting seaborn>=0.11.0\n",
      "  Downloading https://opentuna.cn/pypi/web/packages/68/ad/6c2406ae175f59ec616714e408979b674fe27b9587f79d59a528ddfbcd5b/seaborn-0.11.1-py3-none-any.whl (285 kB)\n",
      "Requirement already satisfied: pandas in /opt/conda/lib/python3.6/site-packages (from -r requirements.txt (line 21)) (0.25.0)\n",
      "Collecting thop\n",
      "  Downloading https://opentuna.cn/pypi/web/packages/6c/8b/22ce44e1c71558161a8bd54471123cc796589c7ebbfc15a7e8932e522f83/thop-0.0.31.post2005241907-py3-none-any.whl (8.7 kB)\n",
      "Collecting pycocotools>=2.0\n",
      "  Downloading https://opentuna.cn/pypi/web/packages/de/df/056875d697c45182ed6d2ae21f62015896fdb841906fe48e7268e791c467/pycocotools-2.0.2.tar.gz (23 kB)\n",
      "Collecting cycler>=0.10\n",
      "  Downloading https://opentuna.cn/pypi/web/packages/f7/d2/e07d3ebb2bd7af696440ce7e754c59dd546ffe1bbe732c8ab68b9c834e61/cycler-0.10.0-py2.py3-none-any.whl (6.5 kB)\n",
      "Requirement already satisfied: python-dateutil>=2.1 in /opt/conda/lib/python3.6/site-packages (from matplotlib>=3.2.2->-r requirements.txt (line 5)) (2.8.1)\n",
      "Collecting kiwisolver>=1.0.1\n",
      "  Downloading https://opentuna.cn/pypi/web/packages/a7/1b/cbd8ae738719b5f41592a12057ef5442e2ed5f5cb5451f8fc7e9f8875a1a/kiwisolver-1.3.1-cp36-cp36m-manylinux1_x86_64.whl (1.1 MB)\n",
      "Requirement already satisfied: pyparsing!=2.0.4,!=2.1.2,!=2.1.6,>=2.0.3 in /opt/conda/lib/python3.6/site-packages (from matplotlib>=3.2.2->-r requirements.txt (line 5)) (2.4.7)\n",
      "Requirement already satisfied: setuptools>=18.0 in /opt/conda/lib/python3.6/site-packages (from pycocotools>=2.0->-r requirements.txt (line 30)) (49.6.0.post20210108)\n",
      "Requirement already satisfied: pytz>=2017.2 in /opt/conda/lib/python3.6/site-packages (from pandas->-r requirements.txt (line 21)) (2021.1)\n",
      "Collecting tensorboard-plugin-wit>=1.6.0\n",
      "  Downloading https://opentuna.cn/pypi/web/packages/1a/c1/499e600ba0c618b451cd9c425ae1c177249940a2086316552fee7d86c954/tensorboard_plugin_wit-1.8.0-py3-none-any.whl (781 kB)\n",
      "Collecting protobuf>=3.6.0\n",
      "  Downloading https://opentuna.cn/pypi/web/packages/83/e3/022871c0211b1880c2dee5caf7c49f0c7e300b1f12ce3516e9a1df6a624f/protobuf-3.17.1-cp36-cp36m-manylinux_2_5_x86_64.manylinux1_x86_64.whl (1.0 MB)\n",
      "Collecting google-auth-oauthlib<0.5,>=0.4.1\n",
      "  Downloading https://opentuna.cn/pypi/web/packages/9d/d3/7541e89f1fc456eef157224f597a8bba22589db6369a03eaba68c11f07a0/google_auth_oauthlib-0.4.4-py2.py3-none-any.whl (18 kB)\n",
      "Requirement already satisfied: requests<3,>=2.21.0 in /opt/conda/lib/python3.6/site-packages (from tensorboard>=2.2->-r requirements.txt (line 11)) (2.22.0)\n",
      "Collecting grpcio>=1.24.3\n",
      "  Downloading https://opentuna.cn/pypi/web/packages/0e/4b/c4e1839cdb3248e1006837e1d427e1843f80f2e6ba69f3af77f00bb51ac4/grpcio-1.38.0-cp36-cp36m-manylinux2014_x86_64.whl (4.2 MB)\n",
      "Collecting markdown>=2.6.8\n",
      "  Downloading https://opentuna.cn/pypi/web/packages/6e/33/1ae0f71395e618d6140fbbc9587cc3156591f748226075e0f7d6f9176522/Markdown-3.3.4-py3-none-any.whl (97 kB)\n",
      "Requirement already satisfied: wheel>=0.26 in /opt/conda/lib/python3.6/site-packages (from tensorboard>=2.2->-r requirements.txt (line 11)) (0.36.2)\n",
      "Collecting absl-py>=0.4\n",
      "  Downloading https://opentuna.cn/pypi/web/packages/92/c9/ef0fae29182d7a867d203f0eff8296b60da92098cc41db33a434f4be84bf/absl_py-0.12.0-py3-none-any.whl (129 kB)\n",
      "Collecting google-auth<2,>=1.6.3\n",
      "  Downloading https://opentuna.cn/pypi/web/packages/35/d2/0a79bc7e201c1b38ce46d607eb9398dc362dff1b054c7bba8e4e195c2ed7/google_auth-1.30.1-py2.py3-none-any.whl (146 kB)\n",
      "Requirement already satisfied: werkzeug>=0.11.15 in /opt/conda/lib/python3.6/site-packages (from tensorboard>=2.2->-r requirements.txt (line 11)) (1.0.1)\n",
      "Collecting tensorboard-data-server<0.7.0,>=0.6.0\n",
      "  Downloading https://opentuna.cn/pypi/web/packages/60/f9/802efd84988bffd9f644c03b6e66fde8e76c3aa33db4279ddd11c5d61f4b/tensorboard_data_server-0.6.1-py3-none-manylinux2010_x86_64.whl (4.9 MB)\n",
      "Collecting dataclasses\n",
      "  Downloading https://opentuna.cn/pypi/web/packages/fe/ca/75fac5856ab5cfa51bbbcefa250182e50441074fdc3f803f6e76451fab43/dataclasses-0.8-py3-none-any.whl (19 kB)\n",
      "Collecting typing-extensions\n",
      "  Downloading https://opentuna.cn/pypi/web/packages/2e/35/6c4fff5ab443b57116cb1aad46421fb719bed2825664e8fe77d66d99bcbc/typing_extensions-3.10.0.0-py3-none-any.whl (26 kB)\n",
      "Requirement already satisfied: six in /opt/conda/lib/python3.6/site-packages (from absl-py>=0.4->tensorboard>=2.2->-r requirements.txt (line 11)) (1.15.0)\n",
      "Collecting pyasn1-modules>=0.2.1\n",
      "  Downloading https://opentuna.cn/pypi/web/packages/95/de/214830a981892a3e286c3794f41ae67a4495df1108c3da8a9f62159b9a9d/pyasn1_modules-0.2.8-py2.py3-none-any.whl (155 kB)\n",
      "Requirement already satisfied: rsa<5,>=3.1.4 in /opt/conda/lib/python3.6/site-packages (from google-auth<2,>=1.6.3->tensorboard>=2.2->-r requirements.txt (line 11)) (4.7.1)\n",
      "Collecting cachetools<5.0,>=2.0.0\n",
      "  Downloading https://opentuna.cn/pypi/web/packages/bf/28/c4f5796c67ad06bb91d98d543a5e01805c1ff065e08871f78e52d2a331ad/cachetools-4.2.2-py3-none-any.whl (11 kB)\n",
      "Collecting requests-oauthlib>=0.7.0\n",
      "  Downloading https://opentuna.cn/pypi/web/packages/a3/12/b92740d845ab62ea4edf04d2f4164d82532b5a0b03836d4d4e71c6f3d379/requests_oauthlib-1.3.0-py2.py3-none-any.whl (23 kB)\n",
      "Collecting importlib-metadata\n",
      "  Downloading https://opentuna.cn/pypi/web/packages/8e/e2/49966924c93909d47612bb47d911448140a2f6c1390aec2f4c1afbe3748f/importlib_metadata-4.0.1-py3-none-any.whl (16 kB)\n",
      "Requirement already satisfied: pyasn1<0.5.0,>=0.4.6 in /opt/conda/lib/python3.6/site-packages (from pyasn1-modules>=0.2.1->google-auth<2,>=1.6.3->tensorboard>=2.2->-r requirements.txt (line 11)) (0.4.8)\n",
      "Requirement already satisfied: chardet<3.1.0,>=3.0.2 in /opt/conda/lib/python3.6/site-packages (from requests<3,>=2.21.0->tensorboard>=2.2->-r requirements.txt (line 11)) (3.0.4)\n",
      "Requirement already satisfied: urllib3!=1.25.0,!=1.25.1,<1.26,>=1.21.1 in /opt/conda/lib/python3.6/site-packages (from requests<3,>=2.21.0->tensorboard>=2.2->-r requirements.txt (line 11)) (1.25.11)\n",
      "Requirement already satisfied: idna<2.9,>=2.5 in /opt/conda/lib/python3.6/site-packages (from requests<3,>=2.21.0->tensorboard>=2.2->-r requirements.txt (line 11)) (2.8)\n",
      "Requirement already satisfied: certifi>=2017.4.17 in /opt/conda/lib/python3.6/site-packages (from requests<3,>=2.21.0->tensorboard>=2.2->-r requirements.txt (line 11)) (2020.12.5)\n",
      "Collecting oauthlib>=3.0.0\n",
      "  Downloading https://opentuna.cn/pypi/web/packages/05/57/ce2e7a8fa7c0afb54a0581b14a65b56e62b5759dbc98e80627142b8a3704/oauthlib-3.1.0-py2.py3-none-any.whl (147 kB)\n",
      "Collecting zipp>=0.5\n",
      "  Downloading https://opentuna.cn/pypi/web/packages/0f/8c/715c54e9e34c0c4820f616a913a7de3337d0cd79074dd1bed4dd840f16ae/zipp-3.4.1-py3-none-any.whl (5.2 kB)\n",
      "Building wheels for collected packages: pycocotools\n",
      "  Building wheel for pycocotools (setup.py): started\n",
      "  Building wheel for pycocotools (setup.py): finished with status 'done'\n",
      "  Created wheel for pycocotools: filename=pycocotools-2.0.2-cp36-cp36m-linux_x86_64.whl size=288126 sha256=3e5713ed0b9ab264cc5ac696559a1c0f019821da5049591f6cc81d378911a84c\n",
      "  Stored in directory: /root/.cache/pip/wheels/24/14/d5/114658f50862a493df77126eafe35fea0e66a9a7f0934ea577\n",
      "Successfully built pycocotools\n",
      "Installing collected packages: zipp, typing-extensions, pyasn1-modules, oauthlib, cachetools, requests-oauthlib, kiwisolver, importlib-metadata, google-auth, dataclasses, cycler, torch, tensorboard-plugin-wit, tensorboard-data-server, scipy, protobuf, matplotlib, markdown, grpcio, google-auth-oauthlib, absl-py, torchvision, thop, tensorboard, seaborn, pycocotools, opencv-python\n",
      "  Attempting uninstall: torch\n",
      "    Found existing installation: torch 1.6.0\n",
      "    Uninstalling torch-1.6.0:\n",
      "      Successfully uninstalled torch-1.6.0\n",
      "  Attempting uninstall: scipy\n",
      "    Found existing installation: scipy 1.3.0\n",
      "    Uninstalling scipy-1.3.0:\n",
      "      Successfully uninstalled scipy-1.3.0\n",
      "  Attempting uninstall: torchvision\n",
      "    Found existing installation: torchvision 0.7.0\n",
      "    Uninstalling torchvision-0.7.0:\n",
      "      Successfully uninstalled torchvision-0.7.0\n",
      "Successfully installed absl-py-0.12.0 cachetools-4.2.2 cycler-0.10.0 dataclasses-0.8 google-auth-1.30.1 google-auth-oauthlib-0.4.4 grpcio-1.38.0 importlib-metadata-4.0.1 kiwisolver-1.3.1 markdown-3.3.4 matplotlib-3.3.4 oauthlib-3.1.0 opencv-python-4.5.2.52 protobuf-3.17.1 pyasn1-modules-0.2.8 pycocotools-2.0.2 requests-oauthlib-1.3.0 scipy-1.5.4 seaborn-0.11.1 tensorboard-2.5.0 tensorboard-data-server-0.6.1 tensorboard-plugin-wit-1.8.0 thop-0.0.31.post2005241907 torch-1.8.1 torchvision-0.9.1 typing-extensions-3.10.0.0 zipp-3.4.1\n",
      "Removing intermediate container 03f46b87dc4e\n",
      " ---> 515e9a535298\n",
      "Step 9/12 : ENV PYTHONUNBUFFERED=TRUE\n",
      " ---> Running in 95816d99826b\n",
      "Removing intermediate container 95816d99826b\n",
      " ---> f43dd373e307\n",
      "Step 10/12 : ENV PYTHONDONTWRITEBYTECODE=TRUE\n",
      " ---> Running in 353541ef4853\n",
      "Removing intermediate container 353541ef4853\n",
      " ---> a98182f40dfc\n",
      "Step 11/12 : ENV PATH=\"/opt/ml/code/:${PATH}\"\n",
      " ---> Running in 85c304855572\n",
      "Removing intermediate container 85c304855572\n",
      " ---> 2fad987c7146\n",
      "Step 12/12 : ENTRYPOINT [\"python3\"]\n",
      " ---> Running in 8238df9a0516\n",
      "Removing intermediate container 8238df9a0516\n",
      " ---> d3028031b877\n",
      "Successfully built d3028031b877\n",
      "Successfully tagged yolov5-inference:latest\n",
      "CPU times: user 1.04 s, sys: 142 ms, total: 1.18 s\n",
      "Wall time: 1min 27s\n"
     ]
    }
   ],
   "source": [
    "%%time\n",
    "!docker build -t $ecr_repository -f Dockerfile --build-arg BASE_IMG=$base_img ."
   ]
  },
  {
   "cell_type": "code",
   "execution_count": null,
   "metadata": {},
   "outputs": [],
   "source": [
    "!docker tag $ecr_repository $image_uri\n",
    "!$(aws ecr get-login --no-include-email)\n",
    "!docker push $image_uri"
   ]
  },
  {
   "cell_type": "markdown",
   "metadata": {},
   "source": [
    "## 部署模型到SageMaker"
   ]
  },
  {
   "cell_type": "code",
   "execution_count": null,
   "metadata": {},
   "outputs": [],
   "source": [
    "from sagemaker.model import Model\n",
    "import boto3\n",
    "\n",
    "iam = boto3.client('iam')\n",
    "roles = iam.list_roles(PathPrefix='/service-role')\n",
    "role=\"\"\n",
    "for current_role in roles[\"Roles\"]:\n",
    "    if current_role[\"RoleName\"].startswith(\"AmazonSageMaker-ExecutionRole-\"):\n",
    "        role=current_role[\"Arn\"]\n",
    "        break\n",
    "#如果role为空表示有问题\n",
    "print(role)\n",
    "\n",
    "endpoint_name = \"yolov5\"\n",
    "my_model = Model(\n",
    "            role=role,\n",
    "            image_uri=image_uri)\n",
    "\n",
    "#该步骤大概需要15分钟\n",
    "xgb_predictor = my_model.deploy(initial_instance_count=1,\n",
    "                                endpoint_name=endpoint_name,\n",
    "                                instance_type='ml.t2.medium'\n",
    "                                )"
   ]
  },
  {
   "cell_type": "markdown",
   "metadata": {},
   "source": [
    "## 推理"
   ]
  },
  {
   "cell_type": "markdown",
   "metadata": {},
   "source": [
    "### 准备测试图片"
   ]
  },
  {
   "cell_type": "code",
   "execution_count": null,
   "metadata": {},
   "outputs": [],
   "source": [
    "data = {\"bucket\":\"junzhong\",\"image_uri\":\"yolov5/training/images/val/000799.jpeg\"}"
   ]
  },
  {
   "cell_type": "markdown",
   "metadata": {},
   "source": [
    "返回的结果是对象的中心点位置(x,y)，以及宽高(w,h)"
   ]
  },
  {
   "cell_type": "markdown",
   "metadata": {},
   "source": [
    "### 方式一、使用boto3"
   ]
  },
  {
   "cell_type": "code",
   "execution_count": null,
   "metadata": {},
   "outputs": [],
   "source": [
    "import boto3\n",
    "import json\n",
    "endpoint_name = \"yolov5\"\n",
    "client = boto3.client('runtime.sagemaker')\n",
    "\n",
    "response = client.invoke_endpoint(EndpointName=endpoint_name,\n",
    "                                  Body=json.dumps(data),\n",
    "                                  ContentType=\"application/json\")\n",
    "#print(response)\n",
    "response_body = response['Body'] \n",
    "body= response_body.read()\n",
    "result = json.loads(body.decode('utf-8'))\n",
    "print(result)"
   ]
  },
  {
   "cell_type": "markdown",
   "metadata": {},
   "source": [
    "### 方式二、使用SageMaker SDK"
   ]
  },
  {
   "cell_type": "code",
   "execution_count": null,
   "metadata": {},
   "outputs": [],
   "source": [
    "import sagemaker\n",
    "from sagemaker.serializers import JSONSerializer\n",
    "from sagemaker.deserializers import JSONDeserializer\n",
    "predictor = sagemaker.predictor.Predictor(\n",
    "    endpoint_name=endpoint_name,\n",
    "    sagemaker_session=sagemaker.Session(),\n",
    "    serializer=JSONSerializer(),\n",
    "    deserializer=JSONDeserializer())\n",
    "result = predictor.predict(data)\n",
    "print(result)"
   ]
  },
  {
   "cell_type": "markdown",
   "metadata": {},
   "source": [
    "## 使用结果"
   ]
  },
  {
   "cell_type": "markdown",
   "metadata": {},
   "source": [
    "### 定义函数"
   ]
  },
  {
   "cell_type": "code",
   "execution_count": null,
   "metadata": {},
   "outputs": [],
   "source": [
    "!pip install tqdm -i https://pypi.tuna.tsinghua.edu.cn/simple/"
   ]
  },
  {
   "cell_type": "code",
   "execution_count": null,
   "metadata": {},
   "outputs": [],
   "source": [
    "import sys\n",
    "sys.path.append(\"source\")\n",
    "from IPython.display import Image\n",
    "from utils.datasets import LoadImages\n",
    "from utils.general import (xywh2xyxy, plot_one_box)\n",
    "import cv2\n",
    "from numpy import random\n",
    "import torch\n",
    "def xywh2xyxy(xywh,width,height):\n",
    "    xyxy = []\n",
    "    xyxy.append((xywh[0]-xywh[2]/2)*width)\n",
    "    xyxy.append((xywh[1]-xywh[3]/2)*height)\n",
    "    xyxy.append((xywh[0]+xywh[2]/2)*width)\n",
    "    xyxy.append((xywh[1]+xywh[3]/2)*height)\n",
    "    return xyxy\n",
    "\n",
    "def draw(result,source_img,output_img):\n",
    "    dataset = LoadImages(source_img)\n",
    "    colors = [[random.randint(0, 255) for _ in range(3)] for _ in range(50)]\n",
    "    for path, img, im0s, vid_cap in dataset:\n",
    "        shape = torch.tensor(im0s.shape)\n",
    "        for item in result:\n",
    "            xyxy_list = xywh2xyxy(item[\"xywh\"],int(shape[1]),int(shape[0]))\n",
    "            xyxy = []\n",
    "            for xyxy_item in xyxy_list:\n",
    "                xyxy.append(torch.Tensor([xyxy_item]))\n",
    "            label = '%s %.2f' % (item[\"class_name\"], item[\"confidence\"])\n",
    "            plot_one_box(xyxy, im0s, label=label, color=colors[item[\"class\"]], line_thickness=3)\n",
    "    cv2.imwrite(output_img, im0s)"
   ]
  },
  {
   "cell_type": "markdown",
   "metadata": {},
   "source": [
    "### 下载原图并显示"
   ]
  },
  {
   "cell_type": "code",
   "execution_count": null,
   "metadata": {},
   "outputs": [],
   "source": [
    "!mkdir result"
   ]
  },
  {
   "cell_type": "code",
   "execution_count": null,
   "metadata": {},
   "outputs": [],
   "source": [
    "s3_file=\"s3://\"+data[\"bucket\"]+\"/\"+data[\"image_uri\"]\n",
    "!aws s3 cp $s3_file ./result\n",
    "source_file_name=data[\"image_uri\"].split(\"/\")[-1:][0]\n",
    "source_img=\"result/\"+source_file_name\n",
    "Image(filename=source_img, width=600)"
   ]
  },
  {
   "cell_type": "markdown",
   "metadata": {},
   "source": [
    "### 把推理结果显示在图片上"
   ]
  },
  {
   "cell_type": "code",
   "execution_count": null,
   "metadata": {},
   "outputs": [],
   "source": [
    "output_img=\"result/output_\"+source_file_name\n",
    "draw(result,source_img,output_img)\n",
    "Image(filename=output_img, width=600)"
   ]
  },
  {
   "cell_type": "markdown",
   "metadata": {},
   "source": [
    "## 删除Endpoint"
   ]
  },
  {
   "cell_type": "code",
   "execution_count": null,
   "metadata": {},
   "outputs": [],
   "source": [
    "import boto3\n",
    "sage = boto3.Session().client(service_name='sagemaker') \n",
    "sage.delete_endpoint(EndpointName=endpoint_name)\n",
    "sage.delete_endpoint_config(EndpointConfigName=endpoint_name)"
   ]
  },
  {
   "cell_type": "code",
   "execution_count": null,
   "metadata": {},
   "outputs": [],
   "source": []
  }
 ],
 "metadata": {
  "kernelspec": {
   "display_name": "Environment (conda_pytorch_latest_p37)",
   "language": "python",
   "name": "conda_pytorch_latest_p37"
  },
  "language_info": {
   "codemirror_mode": {
    "name": "ipython",
    "version": 3
   },
   "file_extension": ".py",
   "mimetype": "text/x-python",
   "name": "python",
   "nbconvert_exporter": "python",
   "pygments_lexer": "ipython3",
   "version": "3.7.10"
  }
 },
 "nbformat": 4,
 "nbformat_minor": 4
}
