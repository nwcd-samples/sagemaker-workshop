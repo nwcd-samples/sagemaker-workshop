{
 "cells": [
  {
   "cell_type": "markdown",
   "metadata": {},
   "source": [
    "# YOLOv5 on SageMaker--训练"
   ]
  },
  {
   "cell_type": "markdown",
   "metadata": {},
   "source": [
    "## 1 说明\n",
    "本章内容为用SageMaker进行训练，数据来自S3。"
   ]
  },
  {
   "cell_type": "markdown",
   "metadata": {},
   "source": [
    "## 2 运行环境\n",
    "Kernel 选择pytorch_latest_p36。  \n",
    "本文在boto3 1.17.12和sagemaker 2.26.0下测试通过。"
   ]
  },
  {
   "cell_type": "code",
   "execution_count": null,
   "metadata": {},
   "outputs": [],
   "source": [
    "import boto3,sagemaker\n",
    "print(boto3.__version__)\n",
    "print(sagemaker.__version__)"
   ]
  },
  {
   "cell_type": "markdown",
   "metadata": {},
   "source": [
    "## 3 获取image"
   ]
  },
  {
   "cell_type": "markdown",
   "metadata": {},
   "source": [
    "本项目已build完毕image，存放到ECR中，可直接部署到SageMaker。请选择选择合适版本。"
   ]
  },
  {
   "cell_type": "code",
   "execution_count": null,
   "metadata": {},
   "outputs": [],
   "source": [
    "tag = \"v3.1\""
   ]
  },
  {
   "cell_type": "code",
   "execution_count": null,
   "metadata": {},
   "outputs": [],
   "source": [
    "import boto3\n",
    "region = boto3.session.Session().region_name\n",
    "image_uri = '048912060910.dkr.ecr.{}.amazonaws.com.cn/nwcd/yolov5-training:{}'.format(region,tag)\n",
    "image_uri"
   ]
  },
  {
   "cell_type": "markdown",
   "metadata": {},
   "source": [
    "## 4 在SageMaker上训练"
   ]
  },
  {
   "cell_type": "code",
   "execution_count": null,
   "metadata": {},
   "outputs": [],
   "source": [
    "# 设置数据存放S3 bucket和前缀\n",
    "bucket = 'junzhong'\n",
    "pre_key = 'yolov5'"
   ]
  },
  {
   "cell_type": "code",
   "execution_count": null,
   "metadata": {},
   "outputs": [],
   "source": [
    "training_uri='s3://{}/{}/training/'.format(bucket, pre_key)\n",
    "outpath='s3://{}/{}/results/'.format(bucket, pre_key)"
   ]
  },
  {
   "cell_type": "code",
   "execution_count": null,
   "metadata": {},
   "outputs": [],
   "source": [
    "import sagemaker,boto3\n",
    "\n",
    "iam = boto3.client('iam')\n",
    "roles = iam.list_roles(PathPrefix='/service-role')\n",
    "role=\"\"\n",
    "for current_role in roles[\"Roles\"]:\n",
    "    if current_role[\"RoleName\"].startswith(\"AmazonSageMaker-ExecutionRole-\"):\n",
    "        role=current_role[\"Arn\"]\n",
    "        break\n",
    "#如果role为空表示有问题\n",
    "print(role)\n",
    "sm = boto3.client('sagemaker')"
   ]
  },
  {
   "cell_type": "code",
   "execution_count": null,
   "metadata": {},
   "outputs": [],
   "source": [
    "#设置是否使用spot实例进行训练\n",
    "use_spot = True"
   ]
  },
  {
   "cell_type": "markdown",
   "metadata": {},
   "source": [
    "YOLOv5相关参数在`contariner/local_test/input/data/training/cfg/`目录下的`hyp.yaml`中，如需修改，请先修改。每次修改完后需要再同步。"
   ]
  },
  {
   "cell_type": "code",
   "execution_count": null,
   "metadata": {},
   "outputs": [],
   "source": [
    "!aws s3 sync container/local_test/input/data/training/ s3://{bucket}/{pre_key}/training/"
   ]
  },
  {
   "cell_type": "code",
   "execution_count": null,
   "metadata": {},
   "outputs": [],
   "source": [
    "from datetime import datetime\n",
    "now = datetime.now()\n",
    "job_name = 'yolov5-' + now.strftime(\"%Y-%m-%d-%H-%M-%S\")\n",
    "job_name"
   ]
  },
  {
   "cell_type": "code",
   "execution_count": null,
   "metadata": {},
   "outputs": [],
   "source": [
    "response = sm.create_training_job(\n",
    "      TrainingJobName=job_name,\n",
    "      HyperParameters={\n",
    "          'img':\"640\",\n",
    "          'batch':\"16\",\n",
    "          'epochs':\"3\",\n",
    "          'hyp':\"/opt/ml/input/data/training/cfg/hyp.yaml\",\n",
    "          'data':\"/opt/ml/input/data/training/cfg/data.yaml\",\n",
    "          'cfg':\"/opt/ml/input/data/training/cfg/yolov5s.yaml\",\n",
    "          'weights':\"/opt/ml/input/data/training/weights/yolov5s.pt\"\n",
    "      },\n",
    "      AlgorithmSpecification={\n",
    "          'TrainingImage': image_uri,\n",
    "          'TrainingInputMode': 'File',\n",
    "      },\n",
    "      RoleArn=role,\n",
    "      InputDataConfig=[\n",
    "          {\n",
    "              'ChannelName': 'training',\n",
    "              'DataSource': {\n",
    "                  'S3DataSource': {\n",
    "                      'S3DataType': 'S3Prefix',\n",
    "                      'S3Uri': training_uri,\n",
    "                      'S3DataDistributionType': 'FullyReplicated',\n",
    "                  },\n",
    "              },\n",
    "              'InputMode': 'File'\n",
    "          }\n",
    "      ],\n",
    "      OutputDataConfig={\n",
    "          'S3OutputPath': outpath\n",
    "      },\n",
    "      ResourceConfig={\n",
    "          'InstanceType': 'ml.p3.2xlarge',\n",
    "          'InstanceCount': 1,\n",
    "          'VolumeSizeInGB': 100,\n",
    "      },\n",
    "      EnableManagedSpotTraining=use_spot,\n",
    "      StoppingCondition={\"MaxWaitTimeInSeconds\": 3600,\"MaxRuntimeInSeconds\": 3600} if use_spot else {\"MaxRuntimeInSeconds\": 3600}\n",
    "  )\n",
    "response"
   ]
  },
  {
   "cell_type": "markdown",
   "metadata": {},
   "source": [
    "查看状态，也可到SageMaker控制台查看。使用本Workshop提供的数据，大概需要15分钟。  \n",
    "每120秒获取一次状态，因此最多可能有2分钟的延迟。"
   ]
  },
  {
   "cell_type": "code",
   "execution_count": null,
   "metadata": {},
   "outputs": [],
   "source": [
    "status = sm.describe_training_job(TrainingJobName=job_name)['TrainingJobStatus']\n",
    "print('Training job current status: {}'.format(status))\n",
    "\n",
    "try:\n",
    "    sm.get_waiter('training_job_completed_or_stopped').wait(TrainingJobName=job_name)\n",
    "    training_info = sm.describe_training_job(TrainingJobName=job_name)\n",
    "    status = training_info['TrainingJobStatus']\n",
    "    print(\"Training job ended with status: \" + status)\n",
    "except:\n",
    "    print('Training failed to start')\n",
    "    message = sm.describe_training_job(TrainingJobName=job_name)['FailureReason']\n",
    "    print('Training failed with the following error: {}'.format(message))"
   ]
  },
  {
   "cell_type": "markdown",
   "metadata": {},
   "source": [
    "如果看到,\n",
    "\n",
    "> `Training job ended with status: Completed`\n",
    "\n",
    "这意味着训练成功完成。"
   ]
  },
  {
   "cell_type": "markdown",
   "metadata": {},
   "source": [
    "## 5 下载训练结果"
   ]
  },
  {
   "cell_type": "markdown",
   "metadata": {},
   "source": [
    "复制下面代码输出的`model_data`，在推理中要使用"
   ]
  },
  {
   "cell_type": "code",
   "execution_count": null,
   "metadata": {},
   "outputs": [],
   "source": [
    "respone = sm.describe_training_job(TrainingJobName=job_name)\n",
    "model_data = respone['ModelArtifacts']['S3ModelArtifacts']\n",
    "!echo -n $model_data > model_data.txt"
   ]
  },
  {
   "cell_type": "code",
   "execution_count": null,
   "metadata": {},
   "outputs": [],
   "source": [
    "!aws s3 cp {model_data} model.tar.gz"
   ]
  },
  {
   "cell_type": "code",
   "execution_count": null,
   "metadata": {},
   "outputs": [],
   "source": [
    "!tar -xvf model.tar.gz"
   ]
  },
  {
   "cell_type": "code",
   "execution_count": null,
   "metadata": {},
   "outputs": [],
   "source": []
  }
 ],
 "metadata": {
  "kernelspec": {
   "display_name": "Environment (conda_pytorch_latest_p37)",
   "language": "python",
   "name": "conda_pytorch_latest_p37"
  },
  "language_info": {
   "codemirror_mode": {
    "name": "ipython",
    "version": 3
   },
   "file_extension": ".py",
   "mimetype": "text/x-python",
   "name": "python",
   "nbconvert_exporter": "python",
   "pygments_lexer": "ipython3",
   "version": "3.7.10"
  }
 },
 "nbformat": 4,
 "nbformat_minor": 4
}
