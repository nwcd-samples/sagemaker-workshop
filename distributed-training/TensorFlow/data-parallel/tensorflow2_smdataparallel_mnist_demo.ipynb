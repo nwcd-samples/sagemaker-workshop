{
 "cells": [
  {
   "cell_type": "markdown",
   "metadata": {},
   "source": [
    "# TensorFlow distributed training on SageMaker"
   ]
  },
  {
   "cell_type": "markdown",
   "metadata": {},
   "source": [
    "## 1 说明\n",
    "本章内容为演示TensorFlow在SageMaker上使用smdistributed进行分布式训练。  "
   ]
  },
  {
   "cell_type": "markdown",
   "metadata": {},
   "source": [
    "## 2 运行环境\n",
    "Kernel 选择tensorflow2_p36。  \n",
    "本文在boto3 1.17.109和sagemaker 2.48.1下测试通过。"
   ]
  },
  {
   "cell_type": "code",
   "execution_count": null,
   "metadata": {},
   "outputs": [],
   "source": [
    "import boto3,sagemaker\n",
    "print(boto3.__version__)\n",
    "print(sagemaker.__version__)"
   ]
  },
  {
   "cell_type": "markdown",
   "metadata": {},
   "source": [
    "如果版本较低，请执行以下命令，重启kernal后再检查版本"
   ]
  },
  {
   "cell_type": "code",
   "execution_count": null,
   "metadata": {},
   "outputs": [],
   "source": [
    "!pip install -U boto3 -i https://opentuna.cn/pypi/web/simple/"
   ]
  },
  {
   "cell_type": "code",
   "execution_count": null,
   "metadata": {},
   "outputs": [],
   "source": [
    "!pip install -U sagemaker -i https://opentuna.cn/pypi/web/simple/"
   ]
  },
  {
   "cell_type": "markdown",
   "metadata": {},
   "source": [
    "## 3 设置/获取相关参数"
   ]
  },
  {
   "cell_type": "code",
   "execution_count": null,
   "metadata": {},
   "outputs": [],
   "source": [
    "import boto3\n",
    "import sagemaker\n",
    "from sagemaker.image_uris import retrieve\n",
    "\n",
    "sagemaker_session = sagemaker.Session()\n",
    "iam = boto3.client('iam')\n",
    "roles = iam.list_roles(PathPrefix='/service-role')\n",
    "role=\"\"\n",
    "for current_role in roles[\"Roles\"]:\n",
    "    if current_role[\"RoleName\"].startswith(\"AmazonSageMaker-ExecutionRole-\"):\n",
    "        role=current_role[\"Arn\"]\n",
    "        break\n",
    "#如果role为空表示有问题，需要先打开https://cn-northwest-1.console.amazonaws.cn/sagemaker/home?region=cn-northwest-1#/notebook-instances/create以创建IAM Role\n",
    "print(role)"
   ]
  },
  {
   "cell_type": "code",
   "execution_count": null,
   "metadata": {},
   "outputs": [],
   "source": [
    "data_input=\"s3://junzhong/data/mnist.npz\""
   ]
  },
  {
   "cell_type": "code",
   "execution_count": null,
   "metadata": {},
   "outputs": [],
   "source": [
    "use_spot = True"
   ]
  },
  {
   "cell_type": "markdown",
   "metadata": {},
   "source": [
    "## 4 训练"
   ]
  },
  {
   "cell_type": "code",
   "execution_count": null,
   "metadata": {},
   "outputs": [],
   "source": [
    "from sagemaker.tensorflow import TensorFlow\n",
    "\n",
    "estimator = TensorFlow(\n",
    "    base_job_name=\"tensorflow2-smdataparallel-mnist\",\n",
    "    source_dir=\"code\",\n",
    "    entry_point=\"train_tensorflow_smdataparallel_mnist.py\",\n",
    "    role=role,\n",
    "    py_version=\"py37\",\n",
    "    framework_version=\"2.3.1\",\n",
    "    instance_count=2,\n",
    "    instance_type=\"ml.p3.16xlarge\",\n",
    "    sagemaker_session=sagemaker_session,\n",
    "    hyperparameters={'batch_size':128},\n",
    "    use_spot_instances=use_spot,\n",
    "    max_wait=7200 if use_spot else None,\n",
    "    max_run=7200,\n",
    "    # Training using SMDataParallel Distributed Training Framework\n",
    "    distribution={\"smdistributed\": {\"dataparallel\": {\"enabled\": True}}},\n",
    ")\n",
    "#日志都会输出到第1个node上\n",
    "estimator.fit(data_input)"
   ]
  },
  {
   "cell_type": "code",
   "execution_count": null,
   "metadata": {},
   "outputs": [],
   "source": [
    "model_data = estimator.model_data\n",
    "model_data"
   ]
  },
  {
   "cell_type": "markdown",
   "metadata": {},
   "source": [
    "## 5 部署"
   ]
  },
  {
   "cell_type": "code",
   "execution_count": null,
   "metadata": {},
   "outputs": [],
   "source": [
    "from sagemaker.tensorflow.model import TensorFlowModel\n",
    "model = TensorFlowModel(\n",
    "            model_data=model_data, \n",
    "            role=role,\n",
    "            framework_version='2.3.1')\n",
    "predictor = model.deploy(initial_instance_count=1, instance_type=\"ml.m5.large\",endpoint_name=\"tensorflowmnist\")"
   ]
  },
  {
   "cell_type": "markdown",
   "metadata": {},
   "source": [
    "## 6 推理"
   ]
  },
  {
   "cell_type": "code",
   "execution_count": null,
   "metadata": {},
   "outputs": [],
   "source": [
    "import tensorflow as tf\n",
    "(mnist_images, mnist_labels), _ = tf.keras.datasets.mnist.load_data()"
   ]
  },
  {
   "cell_type": "code",
   "execution_count": null,
   "metadata": {},
   "outputs": [],
   "source": [
    "import numpy as np\n",
    "import random\n",
    "image_size = 3\n",
    "mask1 = random.sample(range(len(mnist_images)), image_size)\n",
    "mask2 = np.array(mask1, dtype=np.int)\n",
    "data = mnist_images[mask2]"
   ]
  },
  {
   "cell_type": "code",
   "execution_count": null,
   "metadata": {},
   "outputs": [],
   "source": [
    "from matplotlib import pyplot as plt\n",
    "plt.figure(figsize=(2,2))\n",
    "for index, mask in enumerate(mask1):\n",
    "    plt.subplot(1,image_size,index+1)\n",
    "    plt.imshow(mnist_images[mask])\n",
    "    plt.axis('off')\n",
    "plt.show()"
   ]
  },
  {
   "cell_type": "code",
   "execution_count": null,
   "metadata": {},
   "outputs": [],
   "source": [
    "from sagemaker.tensorflow.model import TensorFlowPredictor\n",
    "endpoint_name = \"tensorflowmnist\"\n",
    "predictor = TensorFlowPredictor(\n",
    "    endpoint_name=endpoint_name,\n",
    "    sagemaker_session=sagemaker.Session())"
   ]
  },
  {
   "cell_type": "markdown",
   "metadata": {},
   "source": [
    "predict输入和输出数据的格式直接对应Predict于TensorFlow Serving REST API 中方法的请求和响应格式  \n",
    "除此外，还支持简化的 json 格式、行分隔的 json 对象（“jsons”或“jsonlines”）和 CSV 数据"
   ]
  },
  {
   "cell_type": "code",
   "execution_count": null,
   "metadata": {},
   "outputs": [],
   "source": [
    "response = predictor.predict(np.expand_dims(data, axis=3))\n",
    "for i in range(0,image_size):\n",
    "    print(\"Most likely answer: {}\".format(np.argmax(response[\"predictions\"][i])))"
   ]
  },
  {
   "cell_type": "markdown",
   "metadata": {},
   "source": [
    "## 7 清理"
   ]
  },
  {
   "cell_type": "code",
   "execution_count": null,
   "metadata": {},
   "outputs": [],
   "source": [
    "predictor.delete_endpoint()"
   ]
  }
 ],
 "metadata": {
  "kernelspec": {
   "display_name": "Environment (conda_tensorflow2_p36)",
   "language": "python",
   "name": "conda_tensorflow2_p36"
  },
  "language_info": {
   "codemirror_mode": {
    "name": "ipython",
    "version": 3
   },
   "file_extension": ".py",
   "mimetype": "text/x-python",
   "name": "python",
   "nbconvert_exporter": "python",
   "pygments_lexer": "ipython3",
   "version": "3.6.13"
  }
 },
 "nbformat": 4,
 "nbformat_minor": 4
}
