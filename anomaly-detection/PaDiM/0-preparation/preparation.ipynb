{
 "cells": [
  {
   "cell_type": "markdown",
   "id": "palestinian-oriental",
   "metadata": {},
   "source": [
    "# PaDiM on SageMaker--数据准备"
   ]
  },
  {
   "cell_type": "markdown",
   "id": "still-tonight",
   "metadata": {},
   "source": [
    "## 说明\n",
    "本章内容为准备需要所需数据\n",
    "## 运行环境\n",
    "Kernel 选择pytorch_latest_p37。 \n",
    "### S3目录存放格式\n",
    "```\n",
    "training\n",
    "├── ground_truth\n",
    "│   ├── broken_1\n",
    "│   │   ├── image001.jpg\n",
    "│   │   ├── image002.jpg\n",
    "│   │   └── ...\n",
    "│   └── broken_2\n",
    "│       ├── image101.jpg\n",
    "│       ├── image102.jpg\n",
    "│       └── ...\n",
    "├── test\n",
    "│   ├── broken_1\n",
    "│   │   ├── image001.jpg\n",
    "│   │   ├── image002.jpg\n",
    "│   │   └── ...\n",
    "│   ├── broken_2\n",
    "│   │   ├── image101.jpg\n",
    "│   │   ├── image102.jpg\n",
    "│   │   └── ...\n",
    "│   └── good\n",
    "│       ├── image201.jpg\n",
    "│       ├── image202.jpg\n",
    "│       └── ...\n",
    "└── train\n",
    "    └── good\n",
    "        ├── image301.txt\n",
    "        ├── image302.txt\n",
    "        └── ...\n",
    "```\n",
    "### SageMaker输入数据根目录\n",
    "运行SageMaker时，SageMaker会从S3拷贝数据放到到运行容器的`/opt/ml/input/data/training/`下。即`ground_truth/broken_1/image001.jpg`对应全路径为`/opt/ml/input/data/training/ground_truth/broken_1/image001.jpg`\n",
    "### 文件说明\n",
    "- train目录下只能有一个good目录\n",
    "- test目录下除了有一个good目录，还需要至少1个非good目录 \n",
    "- ground_truth目录下只有非good目录，且和test目录、文件名一致"
   ]
  },
  {
   "cell_type": "markdown",
   "id": "similar-projection",
   "metadata": {},
   "source": [
    "## 下载示例数据\n",
    "访问https://www.mvtec.com/company/research/datasets/mvtec-ad/ 下载数据，本文有所修改，请下载单独类别。\n",
    "本文以bottle.tar.xz为例进行介绍。"
   ]
  },
  {
   "cell_type": "code",
   "execution_count": null,
   "id": "capable-barrel",
   "metadata": {},
   "outputs": [],
   "source": [
    "!xz -d bottle.tar.xz"
   ]
  },
  {
   "cell_type": "code",
   "execution_count": null,
   "id": "possible-prediction",
   "metadata": {},
   "outputs": [],
   "source": [
    "!tar -xf bottle.tar"
   ]
  },
  {
   "cell_type": "code",
   "execution_count": null,
   "id": "supposed-backing",
   "metadata": {},
   "outputs": [],
   "source": [
    "#增加写权限\n",
    "!chmod -R u+w bottle"
   ]
  },
  {
   "cell_type": "code",
   "execution_count": null,
   "id": "bored-google",
   "metadata": {},
   "outputs": [],
   "source": [
    "#去掉ground_truth文件名称中的_mask\n",
    "import os\n",
    "gt_dir=os.path.join(\"bottle\",'ground_truth')\n",
    "img_types = sorted(os.listdir(gt_dir))\n",
    "for img_type in img_types:\n",
    "    img_type_dir = os.path.join(gt_dir, img_type)\n",
    "    for f in sorted(os.listdir(img_type_dir)):\n",
    "        if(f.find(\"_mask\")!=-1):\n",
    "            os.rename(os.path.join(img_type_dir,f),os.path.join(img_type_dir,f.replace(\"_mask\",\"\")))"
   ]
  },
  {
   "cell_type": "code",
   "execution_count": null,
   "id": "fantastic-richmond",
   "metadata": {},
   "outputs": [],
   "source": [
    "#修改input_data，训练章节中会继续用到该地址\n",
    "input_data = 's3://junzhong/data/mvtec/bottle/'\n",
    "!aws s3 sync --quiet bottle $input_data"
   ]
  },
  {
   "cell_type": "code",
   "execution_count": null,
   "id": "falling-drama",
   "metadata": {},
   "outputs": [],
   "source": []
  }
 ],
 "metadata": {
  "kernelspec": {
   "display_name": "Environment (conda_pytorch_latest_p37)",
   "language": "python",
   "name": "conda_pytorch_latest_p37"
  },
  "language_info": {
   "codemirror_mode": {
    "name": "ipython",
    "version": 3
   },
   "file_extension": ".py",
   "mimetype": "text/x-python",
   "name": "python",
   "nbconvert_exporter": "python",
   "pygments_lexer": "ipython3",
   "version": "3.7.10"
  }
 },
 "nbformat": 4,
 "nbformat_minor": 5
}
