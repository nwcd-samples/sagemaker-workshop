{
 "cells": [
  {
   "cell_type": "markdown",
   "metadata": {},
   "source": [
    "# PaDiM on SageMaker--推理"
   ]
  },
  {
   "cell_type": "markdown",
   "metadata": {},
   "source": [
    "## 运行环境\n",
    "Kernel 选择pytorch_latest_p37。  \n",
    "本文在boto3 1.17.12和sagemaker 2.26.0下测试通过。"
   ]
  },
  {
   "cell_type": "code",
   "execution_count": null,
   "metadata": {},
   "outputs": [],
   "source": [
    "import boto3,sagemaker\n",
    "print(boto3.__version__)\n",
    "print(sagemaker.__version__)"
   ]
  },
  {
   "cell_type": "markdown",
   "metadata": {},
   "source": [
    "## 本地虚拟环境推理(可选)\n",
    "新启动一个shell窗口  \n",
    "```\n",
    "sudo mkdir /opt/ml  \n",
    "sudo chmod 777 /opt/ml  \n",
    "conda activate pytorch_latest_p37\n",
    "```\n",
    "必须cd到`2-inference/source`目录，然后运行`python predictor.py`，正常启动会输出以下内容：\n",
    "```\n",
    " * Serving Flask app \"predictor\" (lazy loading)\n",
    " * Environment: production\n",
    "   WARNING: This is a development server. Do not use it in a production deployment.\n",
    "   Use a production WSGI server instead.\n",
    " * Debug mode: off\n",
    " * Running on http://127.0.0.1:5000/ (Press CTRL+C to quit)\n",
    "```"
   ]
  },
  {
   "cell_type": "code",
   "execution_count": null,
   "metadata": {},
   "outputs": [],
   "source": [
    "#修改请求图片\n",
    "#如果仅请求一个图片会报错\n",
    "#upload_bucket、upload_path是推理完毕后，结果上传bucket名称和路径\n",
    "#bucket、image_uri是待推理的bucket名称和图片\n",
    "!curl -H \"Content-Type: application/json\" -X POST --data '{\"upload_bucket\":\"junzhong\",\"upload_path\":\"result/ad2\",\"bucket\":\"junzhong\",\"image_uri\":[\"data/mvtec/bottle/test/broken_small/000.png\",\"data/mvtec/bottle/test/broken_small/001.png\"]}' http://127.0.0.1:5000/invocations"
   ]
  },
  {
   "cell_type": "markdown",
   "metadata": {},
   "source": [
    "## Amazon 深度学习容器\n",
    "\n",
    "* [容器镜像清单](https://github.com/aws/deep-learning-containers/blob/master/available_images.md)\n",
    "* 本文基于pytorch inference: `727897471807.dkr.ecr.cn-northwest-1.amazonaws.com.cn/pytorch-inference:1.6.0-gpu-py36-cu101-ubuntu16.04`"
   ]
  },
  {
   "cell_type": "markdown",
   "metadata": {},
   "source": [
    "## Build自定义推理镜像"
   ]
  },
  {
   "cell_type": "code",
   "execution_count": null,
   "metadata": {},
   "outputs": [],
   "source": [
    "import boto3\n",
    "region = boto3.session.Session().region_name\n",
    "account_id = boto3.client('sts').get_caller_identity().get('Account')\n",
    "ecr_repository = 'ad-inference'\n",
    "tag = 'latest'\n",
    "uri_suffix = 'amazonaws.com'\n",
    "if region in ['cn-north-1', 'cn-northwest-1']:\n",
    "    uri_suffix = 'amazonaws.com.cn'\n",
    "image_uri = '{}.dkr.ecr.{}.{}/{}'.format(account_id, region, uri_suffix, ecr_repository + \":\" + tag)\n",
    "print(image_uri)\n",
    "ecr = '{}.dkr.ecr.{}.{}'.format(account_id, region, uri_suffix)"
   ]
  },
  {
   "cell_type": "code",
   "execution_count": null,
   "metadata": {},
   "outputs": [],
   "source": [
    "#国内pytorch inference基础镜像地址，不要修改\n",
    "base_img='727897471807.dkr.ecr.cn-northwest-1.amazonaws.com.cn/pytorch-inference:1.6.0-gpu-py36-cu101-ubuntu16.04'\n",
    "#登录基础镜像ECR，不要修改\n",
    "!aws ecr get-login-password --region cn-northwest-1 | docker login --username AWS --password-stdin 727897471807.dkr.ecr.cn-northwest-1.amazonaws.com.cn"
   ]
  },
  {
   "cell_type": "code",
   "execution_count": null,
   "metadata": {},
   "outputs": [],
   "source": [
    "!aws ecr create-repository --repository-name $ecr_repository"
   ]
  },
  {
   "cell_type": "code",
   "execution_count": null,
   "metadata": {},
   "outputs": [],
   "source": [
    "%%time\n",
    "!docker build -t $ecr_repository -f Dockerfile --build-arg BASE_IMG=$base_img ."
   ]
  },
  {
   "cell_type": "markdown",
   "metadata": {},
   "source": [
    "### 本地容器推理(可选)"
   ]
  },
  {
   "cell_type": "code",
   "execution_count": null,
   "metadata": {},
   "outputs": [],
   "source": [
    "!docker run -p 8080:8080 -d --rm $ecr_repository:$tag serve"
   ]
  },
  {
   "cell_type": "code",
   "execution_count": null,
   "metadata": {},
   "outputs": [],
   "source": [
    "#修改请求图片\n",
    "#如果仅请求一个图片会报错\n",
    "#upload_bucket、upload_path是推理完毕后，结果上传bucket名称和路径\n",
    "#bucket、image_uri是待推理的bucket名称和图片\n",
    "!curl -H \"Content-Type: application/json\" -X POST --data '{\"upload_bucket\":\"junzhong\",\"upload_path\":\"result/ad\",\"bucket\":\"junzhong\",\"image_uri\":[\"data/mvtec/bottle/test/broken_small/000.png\",\"data/mvtec/bottle/test/broken_small/001.png\"]}' http://127.0.0.1:8080/invocations"
   ]
  },
  {
   "cell_type": "markdown",
   "metadata": {},
   "source": [
    "### 推送容器image到ECR"
   ]
  },
  {
   "cell_type": "code",
   "execution_count": null,
   "metadata": {},
   "outputs": [],
   "source": [
    "!docker tag $ecr_repository:$tag $image_uri\n",
    "!$(aws ecr get-login --no-include-email)\n",
    "!docker push $image_uri"
   ]
  },
  {
   "cell_type": "markdown",
   "metadata": {},
   "source": [
    "## 部署模型到SageMaker"
   ]
  },
  {
   "cell_type": "code",
   "execution_count": null,
   "metadata": {},
   "outputs": [],
   "source": [
    "from sagemaker.model import Model\n",
    "import boto3\n",
    "\n",
    "iam = boto3.client('iam')\n",
    "roles = iam.list_roles(PathPrefix='/service-role')\n",
    "role=\"\"\n",
    "for current_role in roles[\"Roles\"]:\n",
    "    if current_role[\"RoleName\"].startswith(\"AmazonSageMaker-ExecutionRole-\"):\n",
    "        role=current_role[\"Arn\"]\n",
    "        break\n",
    "#如果role为空表示有问题\n",
    "print(role)\n",
    "\n",
    "endpoint_name = \"ad\"\n",
    "my_model = Model(\n",
    "            role=role,\n",
    "            image_uri=image_uri)\n",
    "\n",
    "#该步骤大概需要15分钟\n",
    "xgb_predictor = my_model.deploy(initial_instance_count=1,\n",
    "                                endpoint_name=endpoint_name,\n",
    "                                instance_type='ml.m5.xlarge'\n",
    "                                )"
   ]
  },
  {
   "cell_type": "markdown",
   "metadata": {},
   "source": [
    "## 推理"
   ]
  },
  {
   "cell_type": "markdown",
   "metadata": {},
   "source": [
    "### 准备测试图片"
   ]
  },
  {
   "cell_type": "code",
   "execution_count": null,
   "metadata": {},
   "outputs": [],
   "source": [
    "#修改请求图片\n",
    "#如果仅请求一个图片会报错\n",
    "#upload_bucket、upload_path是推理完毕后，结果上传bucket名称和路径\n",
    "#bucket、image_uri是待推理的bucket名称和图片\n",
    "data = {\"upload_bucket\":\"junzhong\",\"upload_path\":\"result/ad\",\"bucket\":\"junzhong\",\"image_uri\":[\"data/mvtec/bottle/test/broken_small/000.png\",\"data/mvtec/bottle/test/broken_small/001.png\"]}"
   ]
  },
  {
   "cell_type": "markdown",
   "metadata": {},
   "source": [
    "### 方式一、使用boto3"
   ]
  },
  {
   "cell_type": "code",
   "execution_count": null,
   "metadata": {},
   "outputs": [],
   "source": [
    "import boto3\n",
    "import json\n",
    "endpoint_name = \"ad\"\n",
    "client = boto3.client('runtime.sagemaker')\n",
    "\n",
    "response = client.invoke_endpoint(EndpointName=endpoint_name,\n",
    "                                  Body=json.dumps(data),\n",
    "                                  ContentType=\"application/json\")\n",
    "#print(response)\n",
    "response_body = response['Body'] \n",
    "body= response_body.read()\n",
    "result = json.loads(body.decode('utf-8'))\n",
    "print(result)"
   ]
  },
  {
   "cell_type": "markdown",
   "metadata": {},
   "source": [
    "### 方式二、使用SageMaker SDK"
   ]
  },
  {
   "cell_type": "code",
   "execution_count": null,
   "metadata": {},
   "outputs": [],
   "source": [
    "import sagemaker\n",
    "from sagemaker.serializers import JSONSerializer\n",
    "from sagemaker.deserializers import JSONDeserializer\n",
    "predictor = sagemaker.predictor.Predictor(\n",
    "    endpoint_name=endpoint_name,\n",
    "    sagemaker_session=sagemaker.Session(),\n",
    "    serializer=JSONSerializer(),\n",
    "    deserializer=JSONDeserializer())\n",
    "result = predictor.predict(data)\n",
    "print(result)"
   ]
  },
  {
   "cell_type": "markdown",
   "metadata": {},
   "source": [
    "## 使用结果"
   ]
  },
  {
   "cell_type": "markdown",
   "metadata": {},
   "source": [
    "### 下载原图并显示"
   ]
  },
  {
   "cell_type": "code",
   "execution_count": null,
   "metadata": {},
   "outputs": [],
   "source": [
    "from IPython.display import Image\n",
    "s3_file=\"s3://\"+data[\"upload_bucket\"]+\"/\"+data[\"upload_path\"]\n",
    "!aws s3 sync $s3_file ./result"
   ]
  },
  {
   "cell_type": "code",
   "execution_count": null,
   "metadata": {},
   "outputs": [],
   "source": [
    "Image(filename=\"result/0.png\", width=600)"
   ]
  },
  {
   "cell_type": "markdown",
   "metadata": {},
   "source": [
    "## 删除Endpoint"
   ]
  },
  {
   "cell_type": "code",
   "execution_count": null,
   "metadata": {},
   "outputs": [],
   "source": [
    "import boto3\n",
    "sage = boto3.Session().client(service_name='sagemaker') \n",
    "sage.delete_endpoint(EndpointName=endpoint_name)\n",
    "sage.delete_endpoint_config(EndpointConfigName=endpoint_name)"
   ]
  },
  {
   "cell_type": "code",
   "execution_count": null,
   "metadata": {},
   "outputs": [],
   "source": []
  }
 ],
 "metadata": {
  "kernelspec": {
   "display_name": "Environment (conda_pytorch_latest_p37)",
   "language": "python",
   "name": "conda_pytorch_latest_p37"
  },
  "language_info": {
   "codemirror_mode": {
    "name": "ipython",
    "version": 3
   },
   "file_extension": ".py",
   "mimetype": "text/x-python",
   "name": "python",
   "nbconvert_exporter": "python",
   "pygments_lexer": "ipython3",
   "version": "3.7.10"
  }
 },
 "nbformat": 4,
 "nbformat_minor": 4
}
