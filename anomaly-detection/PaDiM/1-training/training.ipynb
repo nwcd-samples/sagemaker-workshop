{
 "cells": [
  {
   "cell_type": "markdown",
   "id": "applicable-zimbabwe",
   "metadata": {},
   "source": [
    "# PaDiM on SageMaker--训练"
   ]
  },
  {
   "cell_type": "markdown",
   "id": "ethical-commitment",
   "metadata": {},
   "source": [
    "## 说明\n",
    "本章内容为调用SageMaker进行训练，数据来自S3，训练后的模型放到S3。"
   ]
  },
  {
   "cell_type": "markdown",
   "id": "southeast-pasta",
   "metadata": {},
   "source": [
    "## 运行环境\n",
    "Kernel 选择pytorch_latest_p37。  \n",
    "本文在boto3 1.17.12和sagemaker 2.26.0下测试通过。"
   ]
  },
  {
   "cell_type": "code",
   "execution_count": null,
   "id": "alert-trial",
   "metadata": {},
   "outputs": [],
   "source": [
    "import boto3,sagemaker\n",
    "print(boto3.__version__)\n",
    "print(sagemaker.__version__)"
   ]
  },
  {
   "cell_type": "markdown",
   "id": "acute-instrumentation",
   "metadata": {},
   "source": [
    "## 训练"
   ]
  },
  {
   "cell_type": "code",
   "execution_count": null,
   "id": "german-protein",
   "metadata": {},
   "outputs": [],
   "source": [
    "#修改为自己的路径\n",
    "input_data = 's3://junzhong/data/mvtec/bottle/'\n",
    "output_data = 's3://junzhong/result/mvtec/'"
   ]
  },
  {
   "cell_type": "code",
   "execution_count": null,
   "id": "independent-migration",
   "metadata": {},
   "outputs": [],
   "source": [
    "import boto3\n",
    "iam = boto3.client('iam')\n",
    "roles = iam.list_roles(PathPrefix='/service-role')\n",
    "role=\"\"\n",
    "for current_role in roles[\"Roles\"]:\n",
    "    if current_role[\"RoleName\"].startswith(\"AmazonSageMaker-ExecutionRole-\"):\n",
    "        role=current_role[\"Arn\"]\n",
    "        break\n",
    "#如果role为空表示有问题，需要先打开https://cn-northwest-1.console.amazonaws.cn/sagemaker/home?region=cn-northwest-1#/notebook-instances/create以创建IAM Role\n",
    "print(role)"
   ]
  },
  {
   "cell_type": "code",
   "execution_count": null,
   "id": "sapphire-ordinary",
   "metadata": {},
   "outputs": [],
   "source": [
    "from sagemaker.pytorch import PyTorch\n",
    "\n",
    "instance_type='ml.m5.2xlarge'\n",
    "\n",
    "estimator = PyTorch(entry_point='training.py',\n",
    "                     source_dir='./source',\n",
    "                     role=role,\n",
    "                     output_path=output_data,\n",
    "                     framework_version='1.6.0',\n",
    "                     hyperparameters={'data_path':\"/opt/ml/input/data/training/\", 'save_path':'/opt/ml/model'}, \n",
    "                     py_version='py3',\n",
    "                     instance_count=1,\n",
    "                     instance_type=instance_type,\n",
    "                     use_spot_instances=True,\n",
    "                     max_wait=432000,\n",
    "                    )"
   ]
  },
  {
   "cell_type": "code",
   "execution_count": null,
   "id": "solved-network",
   "metadata": {},
   "outputs": [],
   "source": [
    "result = estimator.fit(input_data)"
   ]
  },
  {
   "cell_type": "code",
   "execution_count": null,
   "id": "academic-parts",
   "metadata": {},
   "outputs": [],
   "source": [
    "import os\n",
    "os.makedirs(\"result\", exist_ok=True)"
   ]
  },
  {
   "cell_type": "code",
   "execution_count": null,
   "id": "spatial-republic",
   "metadata": {},
   "outputs": [],
   "source": [
    "!aws s3 cp $estimator.model_data ./result"
   ]
  },
  {
   "cell_type": "code",
   "execution_count": null,
   "id": "confirmed-replacement",
   "metadata": {},
   "outputs": [],
   "source": [
    "%%sh\n",
    "cd result\n",
    "tar zxvf model.tar.gz"
   ]
  },
  {
   "cell_type": "code",
   "execution_count": null,
   "id": "illegal-billion",
   "metadata": {},
   "outputs": [],
   "source": [
    "!pwd"
   ]
  },
  {
   "cell_type": "code",
   "execution_count": null,
   "id": "mysterious-publicity",
   "metadata": {},
   "outputs": [],
   "source": [
    "!mv result/temp_wide_resnet50_2/train.pkl ../2-inference/source/"
   ]
  },
  {
   "cell_type": "code",
   "execution_count": null,
   "id": "primary-fifty",
   "metadata": {},
   "outputs": [],
   "source": []
  }
 ],
 "metadata": {
  "kernelspec": {
   "display_name": "Environment (conda_pytorch_latest_p37)",
   "language": "python",
   "name": "conda_pytorch_latest_p37"
  },
  "language_info": {
   "codemirror_mode": {
    "name": "ipython",
    "version": 3
   },
   "file_extension": ".py",
   "mimetype": "text/x-python",
   "name": "python",
   "nbconvert_exporter": "python",
   "pygments_lexer": "ipython3",
   "version": "3.7.10"
  }
 },
 "nbformat": 4,
 "nbformat_minor": 5
}
